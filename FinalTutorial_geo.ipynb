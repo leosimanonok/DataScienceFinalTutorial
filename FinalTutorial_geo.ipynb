{
 "cells": [
  {
   "cell_type": "markdown",
   "metadata": {},
   "source": [
    "# Gentrification in New Orleans - Leah Kuperman and Leo Simanonok"
   ]
  },
  {
   "cell_type": "markdown",
   "metadata": {},
   "source": [
    "https://leosimanonok.github.io/DataScienceFinalTutorial/"
   ]
  },
  {
   "cell_type": "markdown",
   "metadata": {},
   "source": [
    "&nbsp;&nbsp;&nbsp;&nbsp;Throughout the past decade, data science has emerged as a leading field of study and industry. Data analysis has become critical in tackling societal problems and \n",
    "tracking certain trends in order to arrive at informed, logical solutions. For our final project, we have decided to study New Orleans income and property data \n",
    "to identify the prevalence of gentrification in different neighborhoods. As Tulane students, it is easy to become trapped in the uptown bubble and forget about the \n",
    "impact we have on the rest of the city’s people, economy, and culture. It is no secret that New Orleans as a whole is a victim of gentrification. Part of what makes \n",
    "the city so unique is its rich history and resilience, something to which none of the 13,000 people from out of state who have moved here from 2012-2016 can bear \n",
    "witness. That being said, our goal for this project is to find meaningful insights in our datasets which we can offer to our partners, hopefully inspiring positive \n",
    "changes in New Orleans.\n",
    "<br>\n",
    "&nbsp;&nbsp;&nbsp;&nbsp;Initially, one of the datasets we hoped to get our hands on was property value data. Looking at housing prices would allow us take a holistic look at gentrification\n",
    "and possibly track the movement of affluent people to previously poorer neighborhoods. Unfortunately, property value data is notoriously hard to collect in New \n",
    "Orleans. Because of this, the first dataset we analyzed involves poverty rates and income data. To this end, we found census data from the years 2010-2018 which estimates \n",
    "the median income and poverty rate of every county in the USA. Another dataset we decided to look into is a census tract dataset containing both racial and income data. Finally, a third dataset we are looking at analyzes similar statistics from a level of different neighborhoods in and around New Orleans. We hope to use this data in conjunction with \n",
    "the previously discussed census data in order to show how gentrification changes the make-up of neighborhoods. Ideally, we would like to show where the displaced \n",
    "citizens moved after their neighborhoods were gentrified. \n",
    "<br>\n",
    "&nbsp;&nbsp;&nbsp;&nbsp;The two datasets we decided to load into our notebook for this milestone contain the average income and racial makeup for each census tract and each neighborhood. Loading this datasets \n",
    "came with a host of struggles. The biggest struggle was changing all of the column names such that they were sensical and easy to manipulate.\n",
    "<br>\n",
    "&nbsp;&nbsp;&nbsp;&nbsp;In terms of our meeting plan, we have set weekly meetings on Mondays at 1pm to analyze our progress and plan for any upcoming due dates or milestones. Depending on \n",
    "our availability and wellbeing, we have decided to meet in person in the library to avoid technological complications. In the event that we need to meet virtually, we will maintain these meeting times via Zoom. For any code we are writing for the final project, we will do so in our private GitHub repo attached to our final project page. We have already established that both of us are able to connect, pull, and push to it from our local machines."
   ]
  },
  {
   "cell_type": "markdown",
   "metadata": {},
   "source": [
    "## References/Links\n",
    "https://www.census.gov/programs-surveys/saipe/data/api.html<br>\n",
    "https://www.census.gov/data/datasets/time-series/demo/saipe/model-tables.html<br>\n",
    "https://www.datacenterresearch.org/reports_analysis/placing-prosperity/<br>\n",
    "https://richcampanella.com/wp-content/uploads/2020/02/article_Campanella_300-Years-of-Human-Geography-in-New-Orleans.pdf<br>\n",
    "https://www.nytimes.com/2019/08/27/opinion/new-orleans.html <br>\n",
    "https://data.census.gov/cedsci/\n",
    "https://github.com/uscensusbureau/citysdk/blob/master/v2/GeoJSON/500k/2019/18/tract.json\n",
    "https://tigerweb.geo.census.gov/tigerwebmain/TIGERweb_apps.html\n",
    "\n",
    "Original data can be found on our github page in ~/Data"
   ]
  },
  {
   "cell_type": "code",
   "execution_count": 1,
   "metadata": {},
   "outputs": [],
   "source": [
    "import requests\n",
    "import pandas as pd\n",
    "import numpy as np\n",
    "from bs4 import BeautifulSoup\n",
    "import seaborn as sns\n",
    "import matplotlib\n",
    "import matplotlib.pyplot as plt\n",
    "matplotlib.style.use('ggplot')#style change\n",
    "%matplotlib inline\n",
    "pd.options.mode.chained_assignment = None #ignore warnings\n",
    "pd.options.display.float_format = '{:.4f}'.format #display in non-scientific notation"
   ]
  },
  {
   "cell_type": "code",
   "execution_count": 2,
   "metadata": {},
   "outputs": [
    {
     "ename": "ModuleNotFoundError",
     "evalue": "No module named 'geopandas'",
     "output_type": "error",
     "traceback": [
      "\u001b[0;31m---------------------------------------------------------------------------\u001b[0m",
      "\u001b[0;31mModuleNotFoundError\u001b[0m                       Traceback (most recent call last)",
      "\u001b[0;32m<ipython-input-2-458a5e4337ca>\u001b[0m in \u001b[0;36m<module>\u001b[0;34m\u001b[0m\n\u001b[0;32m----> 1\u001b[0;31m \u001b[0;32mimport\u001b[0m \u001b[0mgeopandas\u001b[0m \u001b[0;32mas\u001b[0m \u001b[0mgpd\u001b[0m\u001b[0;34m\u001b[0m\u001b[0;34m\u001b[0m\u001b[0m\n\u001b[0m\u001b[1;32m      2\u001b[0m \u001b[0;32mimport\u001b[0m \u001b[0mfolium\u001b[0m \u001b[0;32mas\u001b[0m \u001b[0mfl\u001b[0m\u001b[0;34m\u001b[0m\u001b[0;34m\u001b[0m\u001b[0m\n\u001b[1;32m      3\u001b[0m \u001b[0;32mfrom\u001b[0m \u001b[0mpandas\u001b[0m\u001b[0;34m.\u001b[0m\u001b[0mio\u001b[0m\u001b[0;34m.\u001b[0m\u001b[0mjson\u001b[0m \u001b[0;32mimport\u001b[0m \u001b[0mjson_normalize\u001b[0m\u001b[0;34m\u001b[0m\u001b[0;34m\u001b[0m\u001b[0m\n\u001b[1;32m      4\u001b[0m \u001b[0;32mimport\u001b[0m \u001b[0mjson\u001b[0m\u001b[0;34m\u001b[0m\u001b[0;34m\u001b[0m\u001b[0m\n",
      "\u001b[0;31mModuleNotFoundError\u001b[0m: No module named 'geopandas'"
     ]
    }
   ],
   "source": [
    "import geopandas as gpd\n",
    "import folium as fl\n",
    "from pandas.io.json import json_normalize\n",
    "import json"
   ]
  },
  {
   "cell_type": "markdown",
   "metadata": {},
   "source": [
    "**Source** <br>\n",
    "Original data tables can be found by searching for \"race\" and \"income\" at https://data.census.gov/cedsci/ and the filtering to only include census tracts in orleans parish."
   ]
  },
  {
   "cell_type": "markdown",
   "metadata": {},
   "source": [
    "We begin by cleaning up a dataset of one year of race data, which we will then apply to each year of data."
   ]
  },
  {
   "cell_type": "code",
   "execution_count": 4,
   "metadata": {},
   "outputs": [],
   "source": [
    "df = pd.read_csv(\"./Data/productDownload_2020-10-23T150453/ACSDP5Y2010.DP05_data_with_overlays_2020-10-23T150427.csv\", skiprows = 1)\n",
    "# change names of columns I want to keep, and then make them into new df\n",
    "clean_df = df.rename(columns = {\n",
    "    \"id\" : \"Geo_ID\",\n",
    "    \"Geographic Area Name\" : \"Census Tract\",\n",
    "    \"Estimate!!SEX AND AGE!!Total population\" : \"Total Population\",\n",
    "    \"Estimate!!RACE!!One race!!White\" : \"White\",\n",
    "    \"Estimate!!RACE!!One race!!Black or African American\" : \"Black\",\n",
    "    \"Estimate!!RACE!!One race!!American Indian and Alaska Native\" : \"American Indian and Alask Native\",\n",
    "    \"Estimate!!RACE!!One race!!Asian\" : \"Asian\",\n",
    "    \"Estimate!!RACE!!One race!!Native Hawaiian and Other Pacific Islander\" : \"Native Hawaiian and Other Pacific Islander\",\n",
    "    \"Estimate!!RACE!!One race!!Some other race\" : \"Other\"\n",
    "    \n",
    "    \n",
    "\n",
    "    \n",
    "    \n",
    "})\n",
    "clean_df = clean_df[[\"Geo_ID\", \"Census Tract\", \"Total Population\", \"White\", \"Black\", \"American Indian and Alask Native\",\n",
    "                   \"Asian\", \"Native Hawaiian and Other Pacific Islander\", \"Other\"]]\n",
    "\n",
    "# get rid of extra characters from census tract column\n",
    "clean_df[\"Census Tract\"] = clean_df[\"Census Tract\"].map(lambda x: x.lstrip('Census Tract').rstrip('Orleans Parish, Louisiana'))\n",
    "clean_df[\"Year\"] = 2010\n",
    "# get rid of unnecessary numbers in Geo_ID\n",
    "clean_df[\"Geo_ID\"] = clean_df[\"Geo_ID\"].apply(lambda x: x[9:])\n",
    "clean_df[\"Geo_ID\"] = clean_df[\"Geo_ID\"].astype(np.int64)\n",
    "clean_df[\"Census Tract\"] = clean_df[\"Census Tract\"].astype(np.float64)"
   ]
  },
  {
   "cell_type": "code",
   "execution_count": 5,
   "metadata": {},
   "outputs": [],
   "source": [
    "# get all race data into one df\n",
    "all_clean_race_df = clean_df\n",
    "\n",
    "for i in range(2011, 2019):\n",
    "    year = str(i)\n",
    "    fileName = \"./Data/productDownload_2020-10-23T150453/ACSDP5Y\" + year + \".DP05_data_with_overlays_2020-10-23T150427.csv\"\n",
    "    df = pd.read_csv(fileName, skiprows=1)\n",
    "    new_df = df.rename(columns = {\n",
    "        \"id\" : \"Geo_ID\",\n",
    "        \"Geographic Area Name\" : \"Census Tract\",\n",
    "        \"Estimate!!SEX AND AGE!!Total population\" : \"Total Population\",\n",
    "        \"Estimate!!RACE!!One race!!White\" : \"White\",\n",
    "        #different names in different tables\n",
    "        \"Estimate!!RACE!!Total population!!One race!!White\" : \"White\",\n",
    "        \"Estimate!!RACE!!One race!!Black or African American\" : \"Black\",\n",
    "        \"Estimate!!RACE!!Total population!!One race!!Black or African American\" : \"Black\",\n",
    "        \"Estimate!!RACE!!One race!!American Indian and Alaska Native\" : \"American Indian and Alask Native\",\n",
    "        \"Estimate!!RACE!!Total population!!One race!!American Indian and Alaska Native\" : \"American Indian and Alask Native\",\n",
    "        \"Estimate!!RACE!!One race!!Asian\" : \"Asian\",\n",
    "        \"Estimate!!RACE!!Total population!!One race!!Asian\" : \"Asian\",\n",
    "        \"Estimate!!RACE!!One race!!Native Hawaiian and Other Pacific Islander\" : \"Native Hawaiian and Other Pacific Islander\",\n",
    "        \"Estimate!!RACE!!Total population!!One race!!Native Hawaiian and Other Pacific Islander\" : \"Native Hawaiian and Other Pacific Islander\",\n",
    "        \"Estimate!!RACE!!One race!!Some other race\" : \"Other\",\n",
    "        \"Estimate!!RACE!!Total population!!One race!!Some other race\" : \"Other\"\n",
    "    })\n",
    "    # keep race data\n",
    "    new_df = new_df[[\"Geo_ID\", \"Census Tract\", \"Total Population\", \"White\", \"Black\", \"American Indian and Alask Native\", \"Asian\", \"Native Hawaiian and Other Pacific Islander\", \"Other\"]]\n",
    "    # get rid of words in census tract column\n",
    "    new_df[\"Census Tract\"] = new_df[\"Census Tract\"].map(lambda x: x.lstrip('Census Tract').rstrip('Orleans Parish, Louisiana'))\n",
    "    # get rid of unnecessary numbers in Geo_ID\n",
    "    new_df[\"Geo_ID\"] = new_df[\"Geo_ID\"].apply(lambda x: x[9:])\n",
    "    new_df[\"Geo_ID\"] = new_df[\"Geo_ID\"].astype(np.int64)\n",
    "    new_df[\"Census Tract\"] = new_df[\"Census Tract\"].astype(np.float64)\n",
    "    new_df[\"Year\"] = i\n",
    "    all_clean_race_df = pd.concat([all_clean_race_df, new_df], ignore_index=True)"
   ]
  },
  {
   "cell_type": "markdown",
   "metadata": {},
   "source": [
    "We will now check that the data type of each column makes sense."
   ]
  },
  {
   "cell_type": "code",
   "execution_count": 6,
   "metadata": {},
   "outputs": [
    {
     "name": "stdout",
     "output_type": "stream",
     "text": [
      "Geo_ID                                          int64\n",
      "Census Tract                                  float64\n",
      "Total Population                                int64\n",
      "White                                           int64\n",
      "Black                                           int64\n",
      "American Indian and Alask Native                int64\n",
      "Asian                                           int64\n",
      "Native Hawaiian and Other Pacific Islander      int64\n",
      "Other                                           int64\n",
      "Year                                            int64\n",
      "dtype: object\n"
     ]
    }
   ],
   "source": [
    "print(all_clean_race_df.dtypes)"
   ]
  },
  {
   "cell_type": "markdown",
   "metadata": {},
   "source": [
    "Note: Some census tracts are split into parts, like in the example below, so they are kept as floats, rather than ints."
   ]
  },
  {
   "cell_type": "code",
   "execution_count": 7,
   "metadata": {},
   "outputs": [
    {
     "data": {
      "text/html": [
       "<div>\n",
       "<style scoped>\n",
       "    .dataframe tbody tr th:only-of-type {\n",
       "        vertical-align: middle;\n",
       "    }\n",
       "\n",
       "    .dataframe tbody tr th {\n",
       "        vertical-align: top;\n",
       "    }\n",
       "\n",
       "    .dataframe thead th {\n",
       "        text-align: right;\n",
       "    }\n",
       "</style>\n",
       "<table border=\"1\" class=\"dataframe\">\n",
       "  <thead>\n",
       "    <tr style=\"text-align: right;\">\n",
       "      <th></th>\n",
       "      <th>Geo_ID</th>\n",
       "      <th>Census Tract</th>\n",
       "      <th>Total Population</th>\n",
       "      <th>White</th>\n",
       "      <th>Black</th>\n",
       "      <th>American Indian and Alask Native</th>\n",
       "      <th>Asian</th>\n",
       "      <th>Native Hawaiian and Other Pacific Islander</th>\n",
       "      <th>Other</th>\n",
       "      <th>Year</th>\n",
       "    </tr>\n",
       "  </thead>\n",
       "  <tbody>\n",
       "    <tr>\n",
       "      <th>44</th>\n",
       "      <td>22071012101</td>\n",
       "      <td>121.0100</td>\n",
       "      <td>3343</td>\n",
       "      <td>2721</td>\n",
       "      <td>212</td>\n",
       "      <td>0</td>\n",
       "      <td>317</td>\n",
       "      <td>0</td>\n",
       "      <td>0</td>\n",
       "      <td>2010</td>\n",
       "    </tr>\n",
       "    <tr>\n",
       "      <th>45</th>\n",
       "      <td>22071012102</td>\n",
       "      <td>121.0200</td>\n",
       "      <td>4236</td>\n",
       "      <td>3694</td>\n",
       "      <td>161</td>\n",
       "      <td>0</td>\n",
       "      <td>281</td>\n",
       "      <td>0</td>\n",
       "      <td>0</td>\n",
       "      <td>2010</td>\n",
       "    </tr>\n",
       "  </tbody>\n",
       "</table>\n",
       "</div>"
      ],
      "text/plain": [
       "         Geo_ID  Census Tract  Total Population  White  Black  \\\n",
       "44  22071012101      121.0100              3343   2721    212   \n",
       "45  22071012102      121.0200              4236   3694    161   \n",
       "\n",
       "    American Indian and Alask Native  Asian  \\\n",
       "44                                 0    317   \n",
       "45                                 0    281   \n",
       "\n",
       "    Native Hawaiian and Other Pacific Islander  Other  Year  \n",
       "44                                           0      0  2010  \n",
       "45                                           0      0  2010  "
      ]
     },
     "execution_count": 7,
     "metadata": {},
     "output_type": "execute_result"
    }
   ],
   "source": [
    "all_clean_race_df[44:46]"
   ]
  },
  {
   "cell_type": "markdown",
   "metadata": {},
   "source": [
    "We can now look at the data from one census tract from 2010 to 2018"
   ]
  },
  {
   "cell_type": "code",
   "execution_count": 8,
   "metadata": {
    "scrolled": true
   },
   "outputs": [
    {
     "data": {
      "text/html": [
       "<div>\n",
       "<style scoped>\n",
       "    .dataframe tbody tr th:only-of-type {\n",
       "        vertical-align: middle;\n",
       "    }\n",
       "\n",
       "    .dataframe tbody tr th {\n",
       "        vertical-align: top;\n",
       "    }\n",
       "\n",
       "    .dataframe thead th {\n",
       "        text-align: right;\n",
       "    }\n",
       "</style>\n",
       "<table border=\"1\" class=\"dataframe\">\n",
       "  <thead>\n",
       "    <tr style=\"text-align: right;\">\n",
       "      <th></th>\n",
       "      <th>Geo_ID</th>\n",
       "      <th>Census Tract</th>\n",
       "      <th>Total Population</th>\n",
       "      <th>White</th>\n",
       "      <th>Black</th>\n",
       "      <th>American Indian and Alask Native</th>\n",
       "      <th>Asian</th>\n",
       "      <th>Native Hawaiian and Other Pacific Islander</th>\n",
       "      <th>Other</th>\n",
       "      <th>Year</th>\n",
       "    </tr>\n",
       "  </thead>\n",
       "  <tbody>\n",
       "    <tr>\n",
       "      <th>3</th>\n",
       "      <td>22071006500</td>\n",
       "      <td>65.0000</td>\n",
       "      <td>2126</td>\n",
       "      <td>933</td>\n",
       "      <td>1031</td>\n",
       "      <td>8</td>\n",
       "      <td>0</td>\n",
       "      <td>22</td>\n",
       "      <td>102</td>\n",
       "      <td>2010</td>\n",
       "    </tr>\n",
       "    <tr>\n",
       "      <th>283</th>\n",
       "      <td>22071006500</td>\n",
       "      <td>65.0000</td>\n",
       "      <td>2315</td>\n",
       "      <td>1181</td>\n",
       "      <td>840</td>\n",
       "      <td>14</td>\n",
       "      <td>36</td>\n",
       "      <td>46</td>\n",
       "      <td>134</td>\n",
       "      <td>2011</td>\n",
       "    </tr>\n",
       "    <tr>\n",
       "      <th>460</th>\n",
       "      <td>22071006500</td>\n",
       "      <td>65.0000</td>\n",
       "      <td>2569</td>\n",
       "      <td>1398</td>\n",
       "      <td>844</td>\n",
       "      <td>17</td>\n",
       "      <td>32</td>\n",
       "      <td>53</td>\n",
       "      <td>116</td>\n",
       "      <td>2012</td>\n",
       "    </tr>\n",
       "    <tr>\n",
       "      <th>569</th>\n",
       "      <td>22071006500</td>\n",
       "      <td>65.0000</td>\n",
       "      <td>2620</td>\n",
       "      <td>1500</td>\n",
       "      <td>740</td>\n",
       "      <td>10</td>\n",
       "      <td>38</td>\n",
       "      <td>37</td>\n",
       "      <td>209</td>\n",
       "      <td>2013</td>\n",
       "    </tr>\n",
       "    <tr>\n",
       "      <th>862</th>\n",
       "      <td>22071006500</td>\n",
       "      <td>65.0000</td>\n",
       "      <td>2679</td>\n",
       "      <td>1627</td>\n",
       "      <td>802</td>\n",
       "      <td>0</td>\n",
       "      <td>40</td>\n",
       "      <td>26</td>\n",
       "      <td>94</td>\n",
       "      <td>2014</td>\n",
       "    </tr>\n",
       "    <tr>\n",
       "      <th>943</th>\n",
       "      <td>22071006500</td>\n",
       "      <td>65.0000</td>\n",
       "      <td>2761</td>\n",
       "      <td>1782</td>\n",
       "      <td>772</td>\n",
       "      <td>0</td>\n",
       "      <td>35</td>\n",
       "      <td>0</td>\n",
       "      <td>116</td>\n",
       "      <td>2015</td>\n",
       "    </tr>\n",
       "    <tr>\n",
       "      <th>1168</th>\n",
       "      <td>22071006500</td>\n",
       "      <td>65.0000</td>\n",
       "      <td>2709</td>\n",
       "      <td>1785</td>\n",
       "      <td>741</td>\n",
       "      <td>0</td>\n",
       "      <td>27</td>\n",
       "      <td>0</td>\n",
       "      <td>97</td>\n",
       "      <td>2016</td>\n",
       "    </tr>\n",
       "    <tr>\n",
       "      <th>1292</th>\n",
       "      <td>22071006500</td>\n",
       "      <td>65.0000</td>\n",
       "      <td>2782</td>\n",
       "      <td>1712</td>\n",
       "      <td>899</td>\n",
       "      <td>0</td>\n",
       "      <td>28</td>\n",
       "      <td>0</td>\n",
       "      <td>101</td>\n",
       "      <td>2017</td>\n",
       "    </tr>\n",
       "    <tr>\n",
       "      <th>1522</th>\n",
       "      <td>22071006500</td>\n",
       "      <td>65.0000</td>\n",
       "      <td>2762</td>\n",
       "      <td>1631</td>\n",
       "      <td>905</td>\n",
       "      <td>0</td>\n",
       "      <td>23</td>\n",
       "      <td>0</td>\n",
       "      <td>128</td>\n",
       "      <td>2018</td>\n",
       "    </tr>\n",
       "  </tbody>\n",
       "</table>\n",
       "</div>"
      ],
      "text/plain": [
       "           Geo_ID  Census Tract  Total Population  White  Black  \\\n",
       "3     22071006500       65.0000              2126    933   1031   \n",
       "283   22071006500       65.0000              2315   1181    840   \n",
       "460   22071006500       65.0000              2569   1398    844   \n",
       "569   22071006500       65.0000              2620   1500    740   \n",
       "862   22071006500       65.0000              2679   1627    802   \n",
       "943   22071006500       65.0000              2761   1782    772   \n",
       "1168  22071006500       65.0000              2709   1785    741   \n",
       "1292  22071006500       65.0000              2782   1712    899   \n",
       "1522  22071006500       65.0000              2762   1631    905   \n",
       "\n",
       "      American Indian and Alask Native  Asian  \\\n",
       "3                                    8      0   \n",
       "283                                 14     36   \n",
       "460                                 17     32   \n",
       "569                                 10     38   \n",
       "862                                  0     40   \n",
       "943                                  0     35   \n",
       "1168                                 0     27   \n",
       "1292                                 0     28   \n",
       "1522                                 0     23   \n",
       "\n",
       "      Native Hawaiian and Other Pacific Islander  Other  Year  \n",
       "3                                             22    102  2010  \n",
       "283                                           46    134  2011  \n",
       "460                                           53    116  2012  \n",
       "569                                           37    209  2013  \n",
       "862                                           26     94  2014  \n",
       "943                                            0    116  2015  \n",
       "1168                                           0     97  2016  \n",
       "1292                                           0    101  2017  \n",
       "1522                                           0    128  2018  "
      ]
     },
     "execution_count": 8,
     "metadata": {},
     "output_type": "execute_result"
    }
   ],
   "source": [
    "all_clean_race_df[all_clean_race_df[\"Census Tract\"] == 65]"
   ]
  },
  {
   "cell_type": "markdown",
   "metadata": {},
   "source": [
    "We will not save this dataframe to a csv, so that we can skip this cleaning in the future."
   ]
  },
  {
   "cell_type": "code",
   "execution_count": 9,
   "metadata": {},
   "outputs": [],
   "source": [
    "all_clean_race_df.to_csv(\"./Data/cleaned_race_data.csv\")"
   ]
  },
  {
   "cell_type": "code",
   "execution_count": 10,
   "metadata": {},
   "outputs": [],
   "source": [
    "df = pd.read_csv(\"./Data/productDownload_2020-10-23T151012/ACSST5Y2010.S1901_data_with_overlays_2020-10-23T150937.csv\", skiprows=1)"
   ]
  },
  {
   "cell_type": "code",
   "execution_count": 11,
   "metadata": {},
   "outputs": [],
   "source": [
    "clean_df = df.rename(columns = {\n",
    "    \"id\" : \"Geo_ID\",\n",
    "    \"Geographic Area Name\" : \"Census Tract\",\n",
    "    #households or families?\n",
    "    \"Households!!Estimate!!Total\" : \"Households\",\n",
    "    \"Households!!Estimate!!Less than $10,000\" : \"Households less than $\\$$10,000\",\n",
    "    \"Households!!Estimate!!$10,000 to $14,999\" : \"Households $\\$$10,000 to $\\$$14,999\",\n",
    "    \"Households!!Estimate!!$15,000 to $24,999\" : \"Households $\\$$15,000 to $\\$$24,999\",\n",
    "    \"Households!!Estimate!!$25,000 to $34,999\" : \"Households $\\$$25,000 to $\\$$34,999\",\n",
    "    \"Households!!Estimate!!$35,000 to $49,999\" : \"Households $\\$$35,000 to $\\$$49,999\",\n",
    "    \"Households!!Estimate!!$50,000 to $74,999\" : \"Households $\\$$50,000 to $\\$$74,999\",\n",
    "    \"Households!!Estimate!!$75,000 to $99,999\" : \"Households $\\$$75,000 to $\\$$99,999\",\n",
    "    \"Households!!Estimate!!$100,000 to $149,999\" : \"Households $\\$$100,000 to $\\$$149,999\",\n",
    "    \"Households!!Estimate!!$150,000 to $199,999\" : \"Households $\\$$150,000 to $\\$$199,999\",\n",
    "    \"Households!!Estimate!!$200,000 or more\" : \"Households $\\$$200,000 or more\",\n",
    "    \"Households!!Estimate!!Median income (dollars)\" : \"Household median income (dollars)\",\n",
    "    \"Households!!Estimate!!Mean income (dollars)\" : \"Household mean income (dollars)\",\n",
    "})\n",
    "\n",
    "clean_df = clean_df[[\"Geo_ID\", \"Census Tract\", \"Households\", \"Households less than $\\$$10,000\", \"Households $\\$$10,000 to $\\$$14,999\",\n",
    "                    \"Households $\\$$15,000 to $\\$$24,999\", \"Households $\\$$25,000 to $\\$$34,999\", \"Households $\\$$35,000 to $\\$$49,999\",\n",
    "                    \"Households $\\$$50,000 to $\\$$74,999\", \"Households $\\$$75,000 to $\\$$99,999\", \"Households $\\$$100,000 to $\\$$149,999\",\n",
    "                     \"Households $\\$$150,000 to $\\$$199,999\", \"Households $\\$$200,000 or more\", \"Household median income (dollars)\",\n",
    "                     \"Household mean income (dollars)\"]]\n",
    "clean_df.replace(to_replace=\"-\", value=np.nan, inplace=True)\n",
    "clean_df.replace(to_replace=\"N\", value=np.nan, inplace=True)\n",
    "clean_df = clean_df.astype({\n",
    "        \"Households\" : \"int64\",\n",
    "        \"Households less than $\\$$10,000\" :  \"float64\",\n",
    "        \"Households $\\$$10,000 to $\\$$14,999\" : \"float64\",\n",
    "        \"Households $\\$$15,000 to $\\$$24,999\" : \"float64\",\n",
    "        \"Households $\\$$25,000 to $\\$$34,999\" : \"float64\",\n",
    "        \"Households $\\$$35,000 to $\\$$49,999\" : \"float64\",\n",
    "        \"Households $\\$$50,000 to $\\$$74,999\" : \"float64\",\n",
    "        \"Households $\\$$75,000 to $\\$$99,999\" : \"float64\", \n",
    "        \"Households $\\$$100,000 to $\\$$149,999\" : \"float64\",\n",
    "        \"Households $\\$$150,000 to $\\$$199,999\" : \"float64\", \n",
    "        \"Households $\\$$200,000 or more\" : \"float64\",\n",
    "        \"Household median income (dollars)\" : \"float64\",\n",
    "        \"Household mean income (dollars)\" : \"float64\"\n",
    "    })\n",
    "\n",
    "clean_df[\"Census Tract\"] = clean_df[\"Census Tract\"].map(lambda x: x.lstrip('Census Tract').rstrip('Orleans Parish, Louisiana'))\n",
    "clean_df[\"Year\"] = 2010      \n",
    "# get rid of unnecessary numbers in Geo_ID\n",
    "clean_df[\"Geo_ID\"] = clean_df[\"Geo_ID\"].apply(lambda x: x[9:])\n",
    "clean_df[\"Geo_ID\"] = clean_df[\"Geo_ID\"].astype(np.int64)\n",
    "clean_df[\"Census Tract\"] = clean_df[\"Census Tract\"].astype(np.float64)"
   ]
  },
  {
   "cell_type": "markdown",
   "metadata": {},
   "source": [
    "Now we add all the other years."
   ]
  },
  {
   "cell_type": "code",
   "execution_count": 12,
   "metadata": {},
   "outputs": [],
   "source": [
    "all_clean_income_df = clean_df\n",
    "\n",
    "for i in range(2011, 2019):\n",
    "    year = str(i)\n",
    "    fileName = \"./Data/productDownload_2020-10-23T151012/ACSST5Y\" + year + \".S1901_data_with_overlays_2020-10-23T150937.csv\"\n",
    "    df = pd.read_csv(fileName, skiprows=1)\n",
    "    new_df = df.rename(columns = {\n",
    "        \"id\" : \"Geo_ID\",\n",
    "        \"Geographic Area Name\" : \"Census Tract\",\n",
    "        #households or families?\n",
    "        \"Households!!Estimate!!Total\" : \"Households\",\n",
    "        #different starting in 2017\n",
    "        \"Estimate!!Households!!Total\" : \"Households\",\n",
    "        \"Households!!Estimate!!Less than $10,000\" : \"Households less than $\\$$10,000\",\n",
    "        \"Estimate!!Households!!Total!!Less than $10,000\" : \"Households less than $\\$$10,000\",\n",
    "        \"Households!!Estimate!!$10,000 to $14,999\" : \"Households $\\$$10,000 to $\\$$14,999\",\n",
    "        \"Estimate!!Households!!Total!!$10,000 to $14,999\" : \"Households $\\$$10,000 to $\\$$14,999\",\n",
    "        \"Households!!Estimate!!$15,000 to $24,999\" : \"Households $\\$$15,000 to $\\$$24,999\",\n",
    "        \"Estimate!!Households!!Total!!$15,000 to $24,999\" : \"Households $\\$$15,000 to $\\$$24,999\",\n",
    "        \"Households!!Estimate!!$25,000 to $34,999\" : \"Households $\\$$25,000 to $\\$$34,999\",\n",
    "        \"Estimate!!Households!!Total!!$25,000 to $34,999\" : \"Households $\\$$25,000 to $\\$$34,999\",\n",
    "        \"Households!!Estimate!!$35,000 to $49,999\" : \"Households $\\$$35,000 to $\\$$49,999\",\n",
    "        \"Estimate!!Households!!Total!!$35,000 to $49,999\" : \"Households $\\$$35,000 to $\\$$49,999\",\n",
    "        \"Households!!Estimate!!$50,000 to $74,999\" : \"Households $\\$$50,000 to $\\$$74,999\",\n",
    "        \"Estimate!!Households!!Total!!$50,000 to $74,999\" : \"Households $\\$$50,000 to $\\$$74,999\",\n",
    "        \"Households!!Estimate!!$75,000 to $99,999\" : \"Households $\\$$75,000 to $\\$$99,999\",\n",
    "        \"Estimate!!Households!!Total!!$75,000 to $99,999\" : \"Households $\\$$75,000 to $\\$$99,999\",\n",
    "        \"Households!!Estimate!!$100,000 to $149,999\" : \"Households $\\$$100,000 to $\\$$149,999\",\n",
    "        \"Estimate!!Households!!Total!!$100,000 to $149,999\" : \"Households $\\$$100,000 to $\\$$149,999\",\n",
    "        \"Households!!Estimate!!$150,000 to $199,999\" : \"Households $\\$$150,000 to $\\$$199,999\",\n",
    "        \"Estimate!!Households!!Total!!$150,000 to $199,999\" : \"Households $\\$$150,000 to $\\$$199,999\",\n",
    "        \"Households!!Estimate!!$200,000 or more\" : \"Households $\\$$200,000 or more\",\n",
    "        \"Estimate!!Households!!Total!!$200,000 or more\" : \"Households $\\$$200,000 or more\",\n",
    "        \"Households!!Estimate!!Median income (dollars)\" : \"Household median income (dollars)\",\n",
    "        \"Estimate!!Households!!Median income (dollars)\" : \"Household median income (dollars)\",\n",
    "        \"Households!!Estimate!!Mean income (dollars)\" : \"Household mean income (dollars)\",\n",
    "        \"Estimate!!Households!!Mean income (dollars)\" : \"Household mean income (dollars)\",\n",
    "    })\n",
    "\n",
    "    new_df = new_df[[\"Geo_ID\", \"Census Tract\", \"Households\", \"Households less than $\\$$10,000\", \"Households $\\$$10,000 to $\\$$14,999\",\n",
    "                    \"Households $\\$$15,000 to $\\$$24,999\", \"Households $\\$$25,000 to $\\$$34,999\", \"Households $\\$$35,000 to $\\$$49,999\",\n",
    "                    \"Households $\\$$50,000 to $\\$$74,999\", \"Households $\\$$75,000 to $\\$$99,999\", \"Households $\\$$100,000 to $\\$$149,999\",\n",
    "                     \"Households $\\$$150,000 to $\\$$199,999\", \"Households $\\$$200,000 or more\", \"Household median income (dollars)\",\n",
    "                     \"Household mean income (dollars)\"]]\n",
    "    # replace \"-\" with np.nan\n",
    "    new_df.replace(to_replace=\"-\", value=np.nan, inplace=True)\n",
    "    new_df.replace(to_replace=\"N\", value=np.nan, inplace=True)\n",
    "    new_df = new_df.astype({\n",
    "        \"Households\" : \"int64\",\n",
    "        \"Households less than $\\$$10,000\" :  \"float64\",\n",
    "        \"Households $\\$$10,000 to $\\$$14,999\" : \"float64\",\n",
    "        \"Households $\\$$15,000 to $\\$$24,999\" : \"float64\",\n",
    "        \"Households $\\$$25,000 to $\\$$34,999\" : \"float64\",\n",
    "        \"Households $\\$$35,000 to $\\$$49,999\" : \"float64\",\n",
    "        \"Households $\\$$50,000 to $\\$$74,999\" : \"float64\",\n",
    "        \"Households $\\$$75,000 to $\\$$99,999\" : \"float64\", \n",
    "        \"Households $\\$$100,000 to $\\$$149,999\" : \"float64\",\n",
    "        \"Households $\\$$150,000 to $\\$$199,999\" : \"float64\", \n",
    "        \"Households $\\$$200,000 or more\" : \"float64\",\n",
    "        \"Household median income (dollars)\" : \"float64\",\n",
    "        \"Household mean income (dollars)\" : \"float64\"\n",
    "    })\n",
    "    new_df[\"Census Tract\"] = new_df[\"Census Tract\"].map(lambda x: x.lstrip('Census Tract').rstrip('Orleans Parish, Louisiana'))\n",
    "    # get rid of unnecessary numbers in Geo_ID\n",
    "    new_df[\"Geo_ID\"] = new_df[\"Geo_ID\"].apply(lambda x: x[9:])\n",
    "    new_df[\"Geo_ID\"] = new_df[\"Geo_ID\"].astype(np.int64)\n",
    "    new_df[\"Census Tract\"] = new_df[\"Census Tract\"].astype(np.float64)\n",
    "    new_df[\"Year\"] = i\n",
    "    all_clean_income_df = pd.concat([all_clean_income_df, new_df], ignore_index=True)"
   ]
  },
  {
   "cell_type": "code",
   "execution_count": 13,
   "metadata": {},
   "outputs": [
    {
     "data": {
      "text/plain": [
       "Geo_ID                                     int64\n",
       "Census Tract                             float64\n",
       "Households                                 int64\n",
       "Households less than $\\$$10,000          float64\n",
       "Households $\\$$10,000 to $\\$$14,999      float64\n",
       "Households $\\$$15,000 to $\\$$24,999      float64\n",
       "Households $\\$$25,000 to $\\$$34,999      float64\n",
       "Households $\\$$35,000 to $\\$$49,999      float64\n",
       "Households $\\$$50,000 to $\\$$74,999      float64\n",
       "Households $\\$$75,000 to $\\$$99,999      float64\n",
       "Households $\\$$100,000 to $\\$$149,999    float64\n",
       "Households $\\$$150,000 to $\\$$199,999    float64\n",
       "Households $\\$$200,000 or more           float64\n",
       "Household median income (dollars)        float64\n",
       "Household mean income (dollars)          float64\n",
       "Year                                       int64\n",
       "dtype: object"
      ]
     },
     "execution_count": 13,
     "metadata": {},
     "output_type": "execute_result"
    }
   ],
   "source": [
    "all_clean_income_df.dtypes"
   ]
  },
  {
   "cell_type": "markdown",
   "metadata": {},
   "source": [
    "Note: All of the household data are percentages, which is why they are floats and not ints."
   ]
  },
  {
   "cell_type": "markdown",
   "metadata": {},
   "source": [
    "We can now look at the data across all years for one census tract."
   ]
  },
  {
   "cell_type": "code",
   "execution_count": 14,
   "metadata": {},
   "outputs": [
    {
     "data": {
      "text/html": [
       "<div>\n",
       "<style scoped>\n",
       "    .dataframe tbody tr th:only-of-type {\n",
       "        vertical-align: middle;\n",
       "    }\n",
       "\n",
       "    .dataframe tbody tr th {\n",
       "        vertical-align: top;\n",
       "    }\n",
       "\n",
       "    .dataframe thead th {\n",
       "        text-align: right;\n",
       "    }\n",
       "</style>\n",
       "<table border=\"1\" class=\"dataframe\">\n",
       "  <thead>\n",
       "    <tr style=\"text-align: right;\">\n",
       "      <th></th>\n",
       "      <th>Geo_ID</th>\n",
       "      <th>Census Tract</th>\n",
       "      <th>Households</th>\n",
       "      <th>Households less than $\\$$10,000</th>\n",
       "      <th>Households $\\$$10,000 to $\\$$14,999</th>\n",
       "      <th>Households $\\$$15,000 to $\\$$24,999</th>\n",
       "      <th>Households $\\$$25,000 to $\\$$34,999</th>\n",
       "      <th>Households $\\$$35,000 to $\\$$49,999</th>\n",
       "      <th>Households $\\$$50,000 to $\\$$74,999</th>\n",
       "      <th>Households $\\$$75,000 to $\\$$99,999</th>\n",
       "      <th>Households $\\$$100,000 to $\\$$149,999</th>\n",
       "      <th>Households $\\$$150,000 to $\\$$199,999</th>\n",
       "      <th>Households $\\$$200,000 or more</th>\n",
       "      <th>Household median income (dollars)</th>\n",
       "      <th>Household mean income (dollars)</th>\n",
       "      <th>Year</th>\n",
       "    </tr>\n",
       "  </thead>\n",
       "  <tbody>\n",
       "    <tr>\n",
       "      <th>106</th>\n",
       "      <td>22071006500</td>\n",
       "      <td>65.0000</td>\n",
       "      <td>937</td>\n",
       "      <td>10.8000</td>\n",
       "      <td>9.9000</td>\n",
       "      <td>17.3000</td>\n",
       "      <td>9.8000</td>\n",
       "      <td>10.2000</td>\n",
       "      <td>20.2000</td>\n",
       "      <td>12.8000</td>\n",
       "      <td>4.7000</td>\n",
       "      <td>4.3000</td>\n",
       "      <td>0.0000</td>\n",
       "      <td>37440.0000</td>\n",
       "      <td>48102.0000</td>\n",
       "      <td>2010</td>\n",
       "    </tr>\n",
       "    <tr>\n",
       "      <th>283</th>\n",
       "      <td>22071006500</td>\n",
       "      <td>65.0000</td>\n",
       "      <td>1092</td>\n",
       "      <td>19.2000</td>\n",
       "      <td>9.9000</td>\n",
       "      <td>8.4000</td>\n",
       "      <td>10.9000</td>\n",
       "      <td>11.8000</td>\n",
       "      <td>16.4000</td>\n",
       "      <td>9.7000</td>\n",
       "      <td>9.1000</td>\n",
       "      <td>4.6000</td>\n",
       "      <td>0.0000</td>\n",
       "      <td>36932.0000</td>\n",
       "      <td>49805.0000</td>\n",
       "      <td>2011</td>\n",
       "    </tr>\n",
       "    <tr>\n",
       "      <th>460</th>\n",
       "      <td>22071006500</td>\n",
       "      <td>65.0000</td>\n",
       "      <td>1194</td>\n",
       "      <td>15.0000</td>\n",
       "      <td>10.1000</td>\n",
       "      <td>15.7000</td>\n",
       "      <td>11.2000</td>\n",
       "      <td>9.8000</td>\n",
       "      <td>14.5000</td>\n",
       "      <td>11.7000</td>\n",
       "      <td>10.1000</td>\n",
       "      <td>2.0000</td>\n",
       "      <td>0.0000</td>\n",
       "      <td>32226.0000</td>\n",
       "      <td>46976.0000</td>\n",
       "      <td>2012</td>\n",
       "    </tr>\n",
       "    <tr>\n",
       "      <th>637</th>\n",
       "      <td>22071006500</td>\n",
       "      <td>65.0000</td>\n",
       "      <td>1226</td>\n",
       "      <td>14.9000</td>\n",
       "      <td>9.8000</td>\n",
       "      <td>14.5000</td>\n",
       "      <td>11.0000</td>\n",
       "      <td>13.0000</td>\n",
       "      <td>17.5000</td>\n",
       "      <td>9.5000</td>\n",
       "      <td>8.5000</td>\n",
       "      <td>1.4000</td>\n",
       "      <td>0.0000</td>\n",
       "      <td>34817.0000</td>\n",
       "      <td>44878.0000</td>\n",
       "      <td>2013</td>\n",
       "    </tr>\n",
       "    <tr>\n",
       "      <th>781</th>\n",
       "      <td>22071006500</td>\n",
       "      <td>65.0000</td>\n",
       "      <td>1184</td>\n",
       "      <td>14.9000</td>\n",
       "      <td>7.9000</td>\n",
       "      <td>14.0000</td>\n",
       "      <td>12.9000</td>\n",
       "      <td>10.5000</td>\n",
       "      <td>15.2000</td>\n",
       "      <td>13.2000</td>\n",
       "      <td>10.2000</td>\n",
       "      <td>1.0000</td>\n",
       "      <td>0.3000</td>\n",
       "      <td>35256.0000</td>\n",
       "      <td>48322.0000</td>\n",
       "      <td>2014</td>\n",
       "    </tr>\n",
       "    <tr>\n",
       "      <th>940</th>\n",
       "      <td>22071006500</td>\n",
       "      <td>65.0000</td>\n",
       "      <td>1218</td>\n",
       "      <td>13.6000</td>\n",
       "      <td>5.9000</td>\n",
       "      <td>13.7000</td>\n",
       "      <td>12.3000</td>\n",
       "      <td>13.0000</td>\n",
       "      <td>15.4000</td>\n",
       "      <td>15.3000</td>\n",
       "      <td>9.6000</td>\n",
       "      <td>1.1000</td>\n",
       "      <td>0.2000</td>\n",
       "      <td>37368.0000</td>\n",
       "      <td>49714.0000</td>\n",
       "      <td>2015</td>\n",
       "    </tr>\n",
       "    <tr>\n",
       "      <th>1179</th>\n",
       "      <td>22071006500</td>\n",
       "      <td>65.0000</td>\n",
       "      <td>1199</td>\n",
       "      <td>6.8000</td>\n",
       "      <td>7.9000</td>\n",
       "      <td>15.8000</td>\n",
       "      <td>11.7000</td>\n",
       "      <td>14.9000</td>\n",
       "      <td>15.8000</td>\n",
       "      <td>12.8000</td>\n",
       "      <td>12.1000</td>\n",
       "      <td>1.1000</td>\n",
       "      <td>1.1000</td>\n",
       "      <td>40040.0000</td>\n",
       "      <td>54719.0000</td>\n",
       "      <td>2016</td>\n",
       "    </tr>\n",
       "    <tr>\n",
       "      <th>1292</th>\n",
       "      <td>22071006500</td>\n",
       "      <td>65.0000</td>\n",
       "      <td>1215</td>\n",
       "      <td>9.2000</td>\n",
       "      <td>7.3000</td>\n",
       "      <td>14.1000</td>\n",
       "      <td>11.5000</td>\n",
       "      <td>16.0000</td>\n",
       "      <td>11.4000</td>\n",
       "      <td>14.8000</td>\n",
       "      <td>11.2000</td>\n",
       "      <td>3.2000</td>\n",
       "      <td>1.2000</td>\n",
       "      <td>39250.0000</td>\n",
       "      <td>56894.0000</td>\n",
       "      <td>2017</td>\n",
       "    </tr>\n",
       "    <tr>\n",
       "      <th>1522</th>\n",
       "      <td>22071006500</td>\n",
       "      <td>65.0000</td>\n",
       "      <td>1228</td>\n",
       "      <td>8.0000</td>\n",
       "      <td>4.7000</td>\n",
       "      <td>15.0000</td>\n",
       "      <td>11.6000</td>\n",
       "      <td>11.2000</td>\n",
       "      <td>12.0000</td>\n",
       "      <td>15.5000</td>\n",
       "      <td>14.1000</td>\n",
       "      <td>6.1000</td>\n",
       "      <td>1.9000</td>\n",
       "      <td>49000.0000</td>\n",
       "      <td>64585.0000</td>\n",
       "      <td>2018</td>\n",
       "    </tr>\n",
       "  </tbody>\n",
       "</table>\n",
       "</div>"
      ],
      "text/plain": [
       "           Geo_ID  Census Tract  Households  Households less than $\\$$10,000  \\\n",
       "106   22071006500       65.0000         937                          10.8000   \n",
       "283   22071006500       65.0000        1092                          19.2000   \n",
       "460   22071006500       65.0000        1194                          15.0000   \n",
       "637   22071006500       65.0000        1226                          14.9000   \n",
       "781   22071006500       65.0000        1184                          14.9000   \n",
       "940   22071006500       65.0000        1218                          13.6000   \n",
       "1179  22071006500       65.0000        1199                           6.8000   \n",
       "1292  22071006500       65.0000        1215                           9.2000   \n",
       "1522  22071006500       65.0000        1228                           8.0000   \n",
       "\n",
       "      Households $\\$$10,000 to $\\$$14,999  \\\n",
       "106                                9.9000   \n",
       "283                                9.9000   \n",
       "460                               10.1000   \n",
       "637                                9.8000   \n",
       "781                                7.9000   \n",
       "940                                5.9000   \n",
       "1179                               7.9000   \n",
       "1292                               7.3000   \n",
       "1522                               4.7000   \n",
       "\n",
       "      Households $\\$$15,000 to $\\$$24,999  \\\n",
       "106                               17.3000   \n",
       "283                                8.4000   \n",
       "460                               15.7000   \n",
       "637                               14.5000   \n",
       "781                               14.0000   \n",
       "940                               13.7000   \n",
       "1179                              15.8000   \n",
       "1292                              14.1000   \n",
       "1522                              15.0000   \n",
       "\n",
       "      Households $\\$$25,000 to $\\$$34,999  \\\n",
       "106                                9.8000   \n",
       "283                               10.9000   \n",
       "460                               11.2000   \n",
       "637                               11.0000   \n",
       "781                               12.9000   \n",
       "940                               12.3000   \n",
       "1179                              11.7000   \n",
       "1292                              11.5000   \n",
       "1522                              11.6000   \n",
       "\n",
       "      Households $\\$$35,000 to $\\$$49,999  \\\n",
       "106                               10.2000   \n",
       "283                               11.8000   \n",
       "460                                9.8000   \n",
       "637                               13.0000   \n",
       "781                               10.5000   \n",
       "940                               13.0000   \n",
       "1179                              14.9000   \n",
       "1292                              16.0000   \n",
       "1522                              11.2000   \n",
       "\n",
       "      Households $\\$$50,000 to $\\$$74,999  \\\n",
       "106                               20.2000   \n",
       "283                               16.4000   \n",
       "460                               14.5000   \n",
       "637                               17.5000   \n",
       "781                               15.2000   \n",
       "940                               15.4000   \n",
       "1179                              15.8000   \n",
       "1292                              11.4000   \n",
       "1522                              12.0000   \n",
       "\n",
       "      Households $\\$$75,000 to $\\$$99,999  \\\n",
       "106                               12.8000   \n",
       "283                                9.7000   \n",
       "460                               11.7000   \n",
       "637                                9.5000   \n",
       "781                               13.2000   \n",
       "940                               15.3000   \n",
       "1179                              12.8000   \n",
       "1292                              14.8000   \n",
       "1522                              15.5000   \n",
       "\n",
       "      Households $\\$$100,000 to $\\$$149,999  \\\n",
       "106                                  4.7000   \n",
       "283                                  9.1000   \n",
       "460                                 10.1000   \n",
       "637                                  8.5000   \n",
       "781                                 10.2000   \n",
       "940                                  9.6000   \n",
       "1179                                12.1000   \n",
       "1292                                11.2000   \n",
       "1522                                14.1000   \n",
       "\n",
       "      Households $\\$$150,000 to $\\$$199,999  Households $\\$$200,000 or more  \\\n",
       "106                                  4.3000                          0.0000   \n",
       "283                                  4.6000                          0.0000   \n",
       "460                                  2.0000                          0.0000   \n",
       "637                                  1.4000                          0.0000   \n",
       "781                                  1.0000                          0.3000   \n",
       "940                                  1.1000                          0.2000   \n",
       "1179                                 1.1000                          1.1000   \n",
       "1292                                 3.2000                          1.2000   \n",
       "1522                                 6.1000                          1.9000   \n",
       "\n",
       "      Household median income (dollars)  Household mean income (dollars)  Year  \n",
       "106                          37440.0000                       48102.0000  2010  \n",
       "283                          36932.0000                       49805.0000  2011  \n",
       "460                          32226.0000                       46976.0000  2012  \n",
       "637                          34817.0000                       44878.0000  2013  \n",
       "781                          35256.0000                       48322.0000  2014  \n",
       "940                          37368.0000                       49714.0000  2015  \n",
       "1179                         40040.0000                       54719.0000  2016  \n",
       "1292                         39250.0000                       56894.0000  2017  \n",
       "1522                         49000.0000                       64585.0000  2018  "
      ]
     },
     "execution_count": 14,
     "metadata": {},
     "output_type": "execute_result"
    }
   ],
   "source": [
    "all_clean_income_df[all_clean_income_df[\"Census Tract\"] == 65]"
   ]
  },
  {
   "cell_type": "markdown",
   "metadata": {},
   "source": [
    "Finally, we export this dataframe to a csv, so that we can skip the cleaning steps in the future."
   ]
  },
  {
   "cell_type": "code",
   "execution_count": 15,
   "metadata": {},
   "outputs": [],
   "source": [
    "all_clean_income_df.to_csv(\"./Data/cleaned_income_data.csv\")"
   ]
  },
  {
   "cell_type": "markdown",
   "metadata": {},
   "source": [
    "In order to do some mapping later on, we will also clean a dataset which maps census tract GeoID to lat/long. The data can be found at https://tigerweb.geo.census.gov/tigerwebmain/TIGERweb_apps.html. Once you follow the link, navigate to Data Files, State-Based Data Files, Census Blockgroups - ACS 2019, and finally to Louisiana. "
   ]
  },
  {
   "cell_type": "code",
   "execution_count": 16,
   "metadata": {},
   "outputs": [],
   "source": [
    "# find the tables in the HTML file\n",
    "tables = pd.read_html(\"./Data/CensusLatLong.html\", flavor='bs4')"
   ]
  },
  {
   "cell_type": "code",
   "execution_count": 17,
   "metadata": {},
   "outputs": [
    {
     "data": {
      "text/plain": [
       "GEOID        int64\n",
       "COUNTY       int64\n",
       "TRACT      float64\n",
       "CENTLAT    float64\n",
       "CENTLON    float64\n",
       "dtype: object"
      ]
     },
     "execution_count": 17,
     "metadata": {},
     "output_type": "execute_result"
    }
   ],
   "source": [
    "table = tables[0]\n",
    "df = table[[\"GEOID\",\"COUNTY\", \"TRACT\", \"CENTLAT\", \"CENTLON\"]]\n",
    "# county 71 is Orleans Parish\n",
    "df = df.loc[df[\"COUNTY\"] == 71]\n",
    "df[\"GEOID\"] = df[\"GEOID\"].astype(str)\n",
    "# get  rid of unneccessary parts of GEOID\n",
    "df[\"GEOID\"] = df[\"GEOID\"].apply(lambda x: x[:11])\n",
    "df[\"GEOID\"] = df[\"GEOID\"].astype(np.int64)\n",
    "df[\"TRACT\"] = df[\"TRACT\"].astype(np.float64)\n",
    "df.dtypes"
   ]
  },
  {
   "cell_type": "markdown",
   "metadata": {},
   "source": [
    "Each census tract is broken down into block groups, which each have their own lat/long. To give ach census tract their own lat/long, we will group by track-level GEOID, and then take the average of the latitude and longitude."
   ]
  },
  {
   "cell_type": "code",
   "execution_count": 18,
   "metadata": {},
   "outputs": [
    {
     "name": "stderr",
     "output_type": "stream",
     "text": [
      "<ipython-input-18-44fdfbbf40ab>:1: FutureWarning: Indexing with multiple keys (implicitly converted to a tuple of keys) will be deprecated, use a list instead.\n",
      "  df = df.groupby(\"GEOID\")[\"CENTLAT\", \"CENTLON\"].mean()\n"
     ]
    },
    {
     "data": {
      "text/html": [
       "<div>\n",
       "<style scoped>\n",
       "    .dataframe tbody tr th:only-of-type {\n",
       "        vertical-align: middle;\n",
       "    }\n",
       "\n",
       "    .dataframe tbody tr th {\n",
       "        vertical-align: top;\n",
       "    }\n",
       "\n",
       "    .dataframe thead th {\n",
       "        text-align: right;\n",
       "    }\n",
       "</style>\n",
       "<table border=\"1\" class=\"dataframe\">\n",
       "  <thead>\n",
       "    <tr style=\"text-align: right;\">\n",
       "      <th></th>\n",
       "      <th>CENTLAT</th>\n",
       "      <th>CENTLON</th>\n",
       "    </tr>\n",
       "    <tr>\n",
       "      <th>GEOID</th>\n",
       "      <th></th>\n",
       "      <th></th>\n",
       "    </tr>\n",
       "  </thead>\n",
       "  <tbody>\n",
       "    <tr>\n",
       "      <th>22071000100</th>\n",
       "      <td>29.9525</td>\n",
       "      <td>-90.0508</td>\n",
       "    </tr>\n",
       "    <tr>\n",
       "      <th>22071000200</th>\n",
       "      <td>29.9463</td>\n",
       "      <td>-90.0510</td>\n",
       "    </tr>\n",
       "    <tr>\n",
       "      <th>22071000300</th>\n",
       "      <td>29.9411</td>\n",
       "      <td>-90.0490</td>\n",
       "    </tr>\n",
       "    <tr>\n",
       "      <th>22071000400</th>\n",
       "      <td>29.9472</td>\n",
       "      <td>-90.0424</td>\n",
       "    </tr>\n",
       "    <tr>\n",
       "      <th>22071000601</th>\n",
       "      <td>29.9329</td>\n",
       "      <td>-90.0411</td>\n",
       "    </tr>\n",
       "    <tr>\n",
       "      <th>...</th>\n",
       "      <td>...</td>\n",
       "      <td>...</td>\n",
       "    </tr>\n",
       "    <tr>\n",
       "      <th>22071014400</th>\n",
       "      <td>29.9168</td>\n",
       "      <td>-90.1083</td>\n",
       "    </tr>\n",
       "    <tr>\n",
       "      <th>22071014500</th>\n",
       "      <td>29.9606</td>\n",
       "      <td>-90.0950</td>\n",
       "    </tr>\n",
       "    <tr>\n",
       "      <th>22071980000</th>\n",
       "      <td>30.0015</td>\n",
       "      <td>-90.0931</td>\n",
       "    </tr>\n",
       "    <tr>\n",
       "      <th>22071980100</th>\n",
       "      <td>30.0045</td>\n",
       "      <td>-89.9157</td>\n",
       "    </tr>\n",
       "    <tr>\n",
       "      <th>22071990000</th>\n",
       "      <td>30.1214</td>\n",
       "      <td>-89.9729</td>\n",
       "    </tr>\n",
       "  </tbody>\n",
       "</table>\n",
       "<p>177 rows × 2 columns</p>\n",
       "</div>"
      ],
      "text/plain": [
       "             CENTLAT  CENTLON\n",
       "GEOID                        \n",
       "22071000100  29.9525 -90.0508\n",
       "22071000200  29.9463 -90.0510\n",
       "22071000300  29.9411 -90.0490\n",
       "22071000400  29.9472 -90.0424\n",
       "22071000601  29.9329 -90.0411\n",
       "...              ...      ...\n",
       "22071014400  29.9168 -90.1083\n",
       "22071014500  29.9606 -90.0950\n",
       "22071980000  30.0015 -90.0931\n",
       "22071980100  30.0045 -89.9157\n",
       "22071990000  30.1214 -89.9729\n",
       "\n",
       "[177 rows x 2 columns]"
      ]
     },
     "metadata": {},
     "output_type": "display_data"
    }
   ],
   "source": [
    "df = df.groupby(\"GEOID\")[\"CENTLAT\", \"CENTLON\"].mean()\n",
    "display(df)"
   ]
  },
  {
   "cell_type": "markdown",
   "metadata": {},
   "source": [
    "This dataframe will be saved to a csv. It can be easily joined to our other datasets in order to plot data on a map!"
   ]
  },
  {
   "cell_type": "code",
   "execution_count": 19,
   "metadata": {},
   "outputs": [],
   "source": [
    "df.to_csv(\"./Data/CensusTractToLatLong.csv\")"
   ]
  },
  {
   "cell_type": "markdown",
   "metadata": {},
   "source": [
    "Finally, in order to map census tracts, we will need to clean geometric data from https://github.com/uscensusbureau/citysdk/blob/master/v2/GeoJSON/500k/2019/18/tract.json."
   ]
  },
  {
   "cell_type": "code",
   "execution_count": 20,
   "metadata": {},
   "outputs": [
    {
     "ename": "NameError",
     "evalue": "name 'gpd' is not defined",
     "output_type": "error",
     "traceback": [
      "\u001b[0;31m---------------------------------------------------------------------------\u001b[0m",
      "\u001b[0;31mNameError\u001b[0m                                 Traceback (most recent call last)",
      "\u001b[0;32m<ipython-input-20-358931d69ca7>\u001b[0m in \u001b[0;36m<module>\u001b[0;34m\u001b[0m\n\u001b[1;32m      1\u001b[0m \u001b[0;31m# first we read in the json\u001b[0m\u001b[0;34m\u001b[0m\u001b[0;34m\u001b[0m\u001b[0;34m\u001b[0m\u001b[0m\n\u001b[0;32m----> 2\u001b[0;31m \u001b[0mdf\u001b[0m\u001b[0;34m=\u001b[0m\u001b[0mgpd\u001b[0m\u001b[0;34m.\u001b[0m\u001b[0mread_file\u001b[0m\u001b[0;34m(\u001b[0m\u001b[0;34m'./Data/tract.json'\u001b[0m\u001b[0;34m)\u001b[0m\u001b[0;34m\u001b[0m\u001b[0;34m\u001b[0m\u001b[0m\n\u001b[0m",
      "\u001b[0;31mNameError\u001b[0m: name 'gpd' is not defined"
     ]
    }
   ],
   "source": [
    "# first we read in the json\n",
    "df=gpd.read_file('./Data/tract.json')"
   ]
  },
  {
   "cell_type": "markdown",
   "metadata": {},
   "source": [
    "This dataset contains geometric data for each census tract in Louisiana. We need to filter it, so that it only contains data from Orleans Parish, which is county 71."
   ]
  },
  {
   "cell_type": "code",
   "execution_count": null,
   "metadata": {},
   "outputs": [],
   "source": [
    "df=df.loc[df[\"COUNTYFP\"] == \"071\"]"
   ]
  },
  {
   "cell_type": "markdown",
   "metadata": {},
   "source": [
    "We then save this file to a geoJson file, which can be read by the Folium mapping library."
   ]
  },
  {
   "cell_type": "code",
   "execution_count": 21,
   "metadata": {},
   "outputs": [
    {
     "ename": "AttributeError",
     "evalue": "'DataFrame' object has no attribute 'to_file'",
     "output_type": "error",
     "traceback": [
      "\u001b[0;31m---------------------------------------------------------------------------\u001b[0m",
      "\u001b[0;31mAttributeError\u001b[0m                            Traceback (most recent call last)",
      "\u001b[0;32m<ipython-input-21-c70e0b8d2c71>\u001b[0m in \u001b[0;36m<module>\u001b[0;34m\u001b[0m\n\u001b[0;32m----> 1\u001b[0;31m \u001b[0mdf\u001b[0m\u001b[0;34m.\u001b[0m\u001b[0mto_file\u001b[0m\u001b[0;34m(\u001b[0m\u001b[0;34m'./Data/tract_nola.geojson'\u001b[0m\u001b[0;34m,\u001b[0m \u001b[0mdriver\u001b[0m\u001b[0;34m=\u001b[0m\u001b[0;34m\"GeoJSON\"\u001b[0m\u001b[0;34m)\u001b[0m\u001b[0;34m\u001b[0m\u001b[0;34m\u001b[0m\u001b[0m\n\u001b[0m",
      "\u001b[0;32m~/opt/anaconda3/lib/python3.8/site-packages/pandas/core/generic.py\u001b[0m in \u001b[0;36m__getattr__\u001b[0;34m(self, name)\u001b[0m\n\u001b[1;32m   5272\u001b[0m             \u001b[0;32mif\u001b[0m \u001b[0mself\u001b[0m\u001b[0;34m.\u001b[0m\u001b[0m_info_axis\u001b[0m\u001b[0;34m.\u001b[0m\u001b[0m_can_hold_identifiers_and_holds_name\u001b[0m\u001b[0;34m(\u001b[0m\u001b[0mname\u001b[0m\u001b[0;34m)\u001b[0m\u001b[0;34m:\u001b[0m\u001b[0;34m\u001b[0m\u001b[0;34m\u001b[0m\u001b[0m\n\u001b[1;32m   5273\u001b[0m                 \u001b[0;32mreturn\u001b[0m \u001b[0mself\u001b[0m\u001b[0;34m[\u001b[0m\u001b[0mname\u001b[0m\u001b[0;34m]\u001b[0m\u001b[0;34m\u001b[0m\u001b[0;34m\u001b[0m\u001b[0m\n\u001b[0;32m-> 5274\u001b[0;31m             \u001b[0;32mreturn\u001b[0m \u001b[0mobject\u001b[0m\u001b[0;34m.\u001b[0m\u001b[0m__getattribute__\u001b[0m\u001b[0;34m(\u001b[0m\u001b[0mself\u001b[0m\u001b[0;34m,\u001b[0m \u001b[0mname\u001b[0m\u001b[0;34m)\u001b[0m\u001b[0;34m\u001b[0m\u001b[0;34m\u001b[0m\u001b[0m\n\u001b[0m\u001b[1;32m   5275\u001b[0m \u001b[0;34m\u001b[0m\u001b[0m\n\u001b[1;32m   5276\u001b[0m     \u001b[0;32mdef\u001b[0m \u001b[0m__setattr__\u001b[0m\u001b[0;34m(\u001b[0m\u001b[0mself\u001b[0m\u001b[0;34m,\u001b[0m \u001b[0mname\u001b[0m\u001b[0;34m:\u001b[0m \u001b[0mstr\u001b[0m\u001b[0;34m,\u001b[0m \u001b[0mvalue\u001b[0m\u001b[0;34m)\u001b[0m \u001b[0;34m->\u001b[0m \u001b[0;32mNone\u001b[0m\u001b[0;34m:\u001b[0m\u001b[0;34m\u001b[0m\u001b[0;34m\u001b[0m\u001b[0m\n",
      "\u001b[0;31mAttributeError\u001b[0m: 'DataFrame' object has no attribute 'to_file'"
     ]
    }
   ],
   "source": [
    "df.to_file('./Data/tract_nola.geojson', driver=\"GeoJSON\")"
   ]
  },
  {
   "cell_type": "markdown",
   "metadata": {},
   "source": [
    " # Exploratory Data Analysis\n",
    "Here we are going to modify some of the census data to represent the distribution of different races for each census tract. By loading in the files that the cleaned datasets were saved into, we can save a lot of cleaning work and dive into more analysis."
   ]
  },
  {
   "cell_type": "code",
   "execution_count": 42,
   "metadata": {},
   "outputs": [],
   "source": [
    "#Load in cleaned census tract income and census tract race datasets\n",
    "cens_income = pd.read_csv(\"./Data/cleaned_income_data.csv\")\n",
    "cens_race = pd.read_csv(\"./Data/cleaned_race_data.csv\")\n",
    "\n",
    "#Creating percentages\n",
    "cens_race['Percent White'] = (cens_race[\"White\"].astype(float) / \n",
    "                                    cens_race['Total Population'].astype(float))\n",
    "cens_race['Percent Black'] = (cens_race[\"Black\"].astype(float) / \n",
    "                                    cens_race['Total Population'].astype(float))\n",
    "cens_race['Percent American Indian/Alaska Native'] = (\n",
    "        cens_race[\"American Indian and Alask Native\"].astype(float) / \n",
    "                                    cens_race['Total Population'].astype(float))\n",
    "cens_race['Percent Asian'] = (cens_race[\"Asian\"].astype(float) /\n",
    "                              cens_race['Total Population'].astype(float))\n",
    "cens_race['Percent Native Hawaiian/Pacific Islander'] = (\n",
    "    cens_race[\"Native Hawaiian and Other Pacific Islander\"].astype(float) / \n",
    "                                    cens_race['Total Population'].astype(float))\n",
    "cens_race['Percent Other'] = (cens_race[\"Other\"].astype(float) / \n",
    "                              cens_race['Total Population'].astype(float))\n",
    "\n",
    "#Create df called race_pct which only contains the percent columns\n",
    "race_pct = cens_race[['Census Tract', 'Percent White', 'Percent Black', \n",
    "                      'Percent American Indian/Alaska Native', 'Percent Asian', \n",
    "                      'Percent Native Hawaiian/Pacific Islander', 'Percent Other', \n",
    "                      'Year']].drop_duplicates()\n",
    "#drop missing data if there is any\n",
    "race_pct.dropna(inplace=True)\n",
    "\n",
    "#Create list of percent columns only for plotting purpooses later on\n",
    "pct_cols = ['Percent White', 'Percent Black', 'Percent American Indian/Alaska Native', \n",
    "            'Percent Asian', 'Percent Native Hawaiian/Pacific Islander', 'Percent Other']\n"
   ]
  },
  {
   "cell_type": "markdown",
   "metadata": {},
   "source": [
    "As mentioned before, our initial hypothesis is that the census tracts with the highest percentage of Black residents in 2010 would have the largest influx of White residents by 2018. In order to see the results of our hypothesis, we need to separate the racial makeup datasets into 2010 and 2018 such that the percentages can be compared."
   ]
  },
  {
   "cell_type": "markdown",
   "metadata": {},
   "source": [
    "### Plotting Correlation between Mean/Median Household Income and Race"
   ]
  },
  {
   "cell_type": "code",
   "execution_count": 43,
   "metadata": {},
   "outputs": [
    {
     "data": {
      "text/plain": [
       "<matplotlib.lines.Line2D at 0x7fc99a6d9c10>"
      ]
     },
     "execution_count": 43,
     "metadata": {},
     "output_type": "execute_result"
    },
    {
     "data": {
      "image/png": "[encoded data removed]",
      "text/plain": [
       "<Figure size 1080x720 with 1 Axes>"
      ]
     },
     "metadata": {
      "needs_background": "light"
     },
     "output_type": "display_data"
    }
   ],
   "source": [
    "#Converting to census tract data for income correlation\n",
    "\n",
    "race_forincome = race_pct.copy()\n",
    "race_forincome = race_forincome.drop('Census Tract', axis=1)\n",
    "\n",
    "mean_df = cens_income[['Household mean income (dollars)', 'Year']].dropna()\n",
    "median_df = cens_income[['Household median income (dollars)', 'Year']].dropna()\n",
    "\n",
    "mean_race = mean_df.merge(race_forincome, on='Year').drop_duplicates()\n",
    "median_race = median_df.merge(race_forincome, on='Year').drop_duplicates()\n",
    "\n",
    "\n",
    "pv = mean_race.pivot_table(index='Year', values=(pct_cols+['Household mean income (dollars)']), \n",
    "                                                                                   aggfunc=np.mean)\n",
    "mean_race = pd.DataFrame(pv.to_records())\n",
    "plotter = mean_race.corr()['Household mean income (dollars)']\n",
    "plotter.drop('Household mean income (dollars)', inplace=True)\n",
    "\n",
    "pv2 = median_race.pivot_table(index='Year', values=(pct_cols+['Household median income (dollars)']), \n",
    "                                                                                      aggfunc=np.mean)\n",
    "median_race = pd.DataFrame(pv2.to_records())\n",
    "plotter2 = median_race.corr()['Household median income (dollars)']\n",
    "plotter2.drop('Household median income (dollars)', inplace=True)\n",
    "\n",
    "order = list(plotter.sort_values(ascending=False).index)\n",
    "plotter = pd.concat([plotter, plotter2], axis=1)\n",
    "plotter.reindex(order).plot.bar(\n",
    "                    title='Correlation Between Mean/Median Household Income and Race From 2010-2018', \n",
    "                    figsize=(15,10), fontsize='large', rot=20,\n",
    "    color=['#468989','#2A5568']).axhline(y=0, color='black')"
   ]
  },
  {
   "cell_type": "code",
   "execution_count": 44,
   "metadata": {},
   "outputs": [],
   "source": [
    "#Make Datasets in 2010 and 2018 to calculate change:\n",
    "race_in2010 = race_pct[race_pct['Year']==2010]\n",
    "race_in2018 = race_pct[race_pct['Year']==2018]\n",
    "\n",
    "race_in2010.set_index('Census Tract', inplace=True)\n",
    "race_in2018.set_index('Census Tract', inplace=True)"
   ]
  },
  {
   "cell_type": "markdown",
   "metadata": {},
   "source": [
    "## Initial Hypothesis — Visualization"
   ]
  },
  {
   "cell_type": "code",
   "execution_count": 45,
   "metadata": {},
   "outputs": [
    {
     "data": {
      "text/plain": [
       "Text(0, 0.5, 'Percentage')"
      ]
     },
     "execution_count": 45,
     "metadata": {},
     "output_type": "execute_result"
    },
    {
     "data": {
      "image/png": "[encoded data removed]",
      "text/plain": [
       "<Figure size 1080x432 with 1 Axes>"
      ]
     },
     "metadata": {
      "needs_background": "light"
     },
     "output_type": "display_data"
    },
    {
     "data": {
      "image/png": "[encoded data removed]",
      "text/plain": [
       "<Figure size 1080x432 with 1 Axes>"
      ]
     },
     "metadata": {
      "needs_background": "light"
     },
     "output_type": "display_data"
    }
   ],
   "source": [
    "theme = [ '#404753', '#0AA39F','#77be9c',  '#2A5568', '#468989','#E3F8A5']\n",
    "\n",
    "#Determine which census tracts had the highest pct of Black residents in 2010:\n",
    "highest_pct_black = cens_race[cens_race['Year']==2010][['Census Tract', 'Percent Black']].sort_values(by='Percent Black',ascending=False).head(15)\n",
    "init_hyp = list(highest_pct_black['Census Tract'].to_dict().values())\n",
    "\n",
    "#Create subsets for each of the years for comparison\n",
    "subset_2010 = race_in2010.loc[init_hyp]\n",
    "subset_2018 = race_in2018.loc[init_hyp]\n",
    "\n",
    "#-------------------------------------------Plotting--------------------------------------------\n",
    "\n",
    "#Create pivot tables and plot\n",
    "ax1 = subset_2010.pivot_table(index='Census Tract', values=pct_cols).plot.bar(stacked=True, color=theme, \n",
    "                                    rot=0, figsize=(15,6), fontsize='large')\n",
    "ax2 = subset_2018.pivot_table(index='Census Tract', values=pct_cols).plot.bar(stacked=True, color=theme, \n",
    "                                    fontsize='large', rot=0, figsize=(15,6))\n",
    "\n",
    "#Format title/axis titles/legend\n",
    "\n",
    "#ax1\n",
    "ax1.set_title('Racial Distribution in 2010', fontsize=20)\n",
    "ax1.legend(bbox_to_anchor=(.7, 1.1), fontsize=11)\n",
    "ax1.set_xlabel('Census Tract', fontsize=20)\n",
    "ax1.set_ylabel('Percentage', fontsize=20, labelpad=10)\n",
    "\n",
    "#ax2\n",
    "ax2.set_title('Racial Distribution in 2018', fontsize=20)\n",
    "ax2.legend(bbox_to_anchor=(1, -.1), fontsize=11)\n",
    "ax2.set_xlabel('Census Tract', fontsize=20)\n",
    "ax2.set_ylabel('Percentage', fontsize=20, labelpad=10)"
   ]
  },
  {
   "cell_type": "markdown",
   "metadata": {},
   "source": [
    "## Revised Hypothesis — Visualization\n",
    "After looking at our initial hypothesis, we realized that the initial conditions we originally selected did not effectively predict the census tracts which would experience the highest positive percent change in White residents. That being said, we decided to modify our hypothesis to look at census tracts with a percentage of Black residents between 40% and 60%, rather than as close to 100% as possible. "
   ]
  },
  {
   "cell_type": "code",
   "execution_count": 46,
   "metadata": {},
   "outputs": [
    {
     "data": {
      "text/plain": [
       "Text(0, 0.5, 'Percentage')"
      ]
     },
     "execution_count": 46,
     "metadata": {},
     "output_type": "execute_result"
    },
    {
     "data": {
      "image/png": "[encoded data removed]",
      "text/plain": [
       "<Figure size 1080x432 with 1 Axes>"
      ]
     },
     "metadata": {
      "needs_background": "light"
     },
     "output_type": "display_data"
    },
    {
     "data": {
      "image/png": "[encoded data removed]",
      "text/plain": [
       "<Figure size 1080x432 with 1 Axes>"
      ]
     },
     "metadata": {
      "needs_background": "light"
     },
     "output_type": "display_data"
    }
   ],
   "source": [
    "#Need census tract as column value to pull out the data we need, so reset index\n",
    "race_in2010.reset_index(inplace=True)\n",
    "\n",
    "#Create new list of census tracts whcih had between 40%-60% Black residents in 2010\n",
    "rev_hyp = list(race_in2010[(race_in2010['Percent Black']<.6) \n",
    "                    & (race_in2010['Percent Black']>.4)]['Census Tract'].to_dict().values())\n",
    "\n",
    "#Change back index to create subsets\n",
    "race_in2010.set_index('Census Tract', inplace=True)\n",
    "\n",
    "#Create subsets for each of the years for comparison\n",
    "subset_2010 = race_in2010.loc[rev_hyp]\n",
    "subset_2018 = race_in2018.loc[rev_hyp]\n",
    "\n",
    "#-------------------------------------------Plotting--------------------------------------------\n",
    "\n",
    "#Create pivot tables and plot\n",
    "ax1 = subset_2010.pivot_table(index='Census Tract', values=pct_cols).plot.bar(stacked=True, color=theme, \n",
    "                                    rot=0, figsize=(15,6), fontsize='large')\n",
    "ax2 = subset_2018.pivot_table(index='Census Tract', values=pct_cols).plot.bar(stacked=True, color=theme, \n",
    "                                    fontsize='large', rot=0, figsize=(15,6))\n",
    "\n",
    "#Format title/axis titles/legend\n",
    "\n",
    "#ax1\n",
    "ax1.set_title('Racial Distribution in 2010', fontsize=20)\n",
    "ax1.legend(bbox_to_anchor=(.7, 1.1), fontsize=11)\n",
    "ax1.set_xlabel('Census Tract', fontsize=20)\n",
    "ax1.set_ylabel('Percentage', fontsize=20, labelpad=10)\n",
    "\n",
    "#ax2\n",
    "ax2.set_title('Racial Distribution in 2018', fontsize=20)\n",
    "ax2.legend(bbox_to_anchor=(1, -.1), fontsize=11)\n",
    "ax2.set_xlabel('Census Tract', fontsize=20)\n",
    "ax2.set_ylabel('Percentage', fontsize=20, labelpad=10)"
   ]
  },
  {
   "cell_type": "markdown",
   "metadata": {},
   "source": [
    "## Hypothesis Testing — Visualization"
   ]
  },
  {
   "cell_type": "code",
   "execution_count": 47,
   "metadata": {},
   "outputs": [
    {
     "data": {
      "text/plain": [
       "Text(0, 0.5, 'Percentage')"
      ]
     },
     "execution_count": 47,
     "metadata": {},
     "output_type": "execute_result"
    },
    {
     "data": {
      "image/png": "[encoded data removed]",
      "text/plain": [
       "<Figure size 1080x432 with 1 Axes>"
      ]
     },
     "metadata": {
      "needs_background": "light"
     },
     "output_type": "display_data"
    },
    {
     "data": {
      "image/png": "[encoded data removed]",
      "text/plain": [
       "<Figure size 1080x432 with 1 Axes>"
      ]
     },
     "metadata": {
      "needs_background": "light"
     },
     "output_type": "display_data"
    }
   ],
   "source": [
    "#Changing what I did before to take in census tract data: highest change in white population\n",
    "\n",
    "#Calculate which neighborhoods had the biggest influx of white people between the two time periods:\n",
    "change_white = race_pct[['Census Tract']].drop_duplicates()\n",
    "change_white.set_index('Census Tract', inplace=True)\n",
    "\n",
    "#Subtract most recent data from old data\n",
    "change_white['Change in White'] = race_in2018['Percent White'] - race_in2010['Percent White']\n",
    "\n",
    "#Save the 15 census tracts with the highest increase in population of white people\n",
    "highest_change = list(\n",
    "    change_white['Change in White'].sort_values(ascending=False).head(15).astype(str).to_dict().keys())\n",
    "\n",
    "#Create subsets for each of the years for comparison\n",
    "subset_2010 = race_in2010.loc[highest_change]\n",
    "subset_2018 = race_in2018.loc[highest_change]\n",
    "\n",
    "#-------------------------------------------Plotting--------------------------------------------\n",
    "\n",
    "#Create pivot tables and plot\n",
    "ax1 = subset_2010.pivot_table(index='Census Tract', values=pct_cols).plot.bar(stacked=True, color=theme, \n",
    "                                    rot=0, figsize=(15,6), fontsize='large')\n",
    "ax2 = subset_2018.pivot_table(index='Census Tract', values=pct_cols).plot.bar(stacked=True, color=theme, \n",
    "                                    fontsize='large', rot=0, figsize=(15,6))\n",
    "\n",
    "#Format title/axis titles/legend\n",
    "\n",
    "#ax1\n",
    "ax1.set_title('Racial Distribution in 2010', fontsize=20)\n",
    "ax1.legend(bbox_to_anchor=(.7, 1.1), fontsize=11)\n",
    "ax1.set_xlabel('Census Tract', fontsize=20)\n",
    "ax1.set_ylabel('Percentage', fontsize=20, labelpad=10)\n",
    "\n",
    "#ax2\n",
    "ax2.set_title('Racial Distribution in 2018', fontsize=20)\n",
    "ax2.legend(bbox_to_anchor=(1, -.1), fontsize=11)\n",
    "ax2.set_xlabel('Census Tract', fontsize=20)\n",
    "ax2.set_ylabel('Percentage', fontsize=20, labelpad=10)"
   ]
  },
  {
   "cell_type": "code",
   "execution_count": 48,
   "metadata": {},
   "outputs": [
    {
     "data": {
      "text/plain": [
       "Text(0, 0.5, 'Change in Percentage of White Residents between 2010-2018')"
      ]
     },
     "execution_count": 48,
     "metadata": {},
     "output_type": "execute_result"
    },
    {
     "data": {
      "image/png": "[encoded data removed]",
      "text/plain": [
       "<Figure size 1440x720 with 1 Axes>"
      ]
     },
     "metadata": {
      "needs_background": "light"
     },
     "output_type": "display_data"
    }
   ],
   "source": [
    "#SCATTERPLOT\n",
    "colors = ['#3F738A', '#404753', '#0AA39F','#77be9c',  '#2A5568', '#468989']\n",
    "change_white['Percent Black 2010'] = race_in2010['Percent Black']\n",
    "change_white.plot.scatter(x='Percent Black 2010', y='Change in White', figsize=(20,10), c=colors*29,\n",
    "                               s=100).axhline(y=0, color='black')\n",
    "plt.title('Percentage of Black Residents in 2010 vs. Change in Percentage of White Residents 2010-2018',\n",
    "         fontsize=22)\n",
    "plt.xlabel('Percentage of Black Residents in 2010', fontsize=16)\n",
    "plt.ylabel('Change in Percentage of White Residents between 2010-2018', fontsize=16)"
   ]
  },
  {
   "cell_type": "markdown",
   "metadata": {},
   "source": [
    "In order to further test our hypothesis, we decided to plot all of the starting percentages of Black residents in 2010 against the change in Percentage of White Residents between 2010-2018. The range of our hypothesis falls between 40-60% on the x-axis, which, looking at the data, is a pretty accurate range."
   ]
  },
  {
   "cell_type": "markdown",
   "metadata": {},
   "source": [
    "Mapping tracts"
   ]
  },
  {
   "cell_type": "code",
   "execution_count": null,
   "metadata": {},
   "outputs": [],
   "source": [
    "geo_df = gpd.read_file('./Data/tract_nola.geojson')\n",
    "race_df = pd.read_csv(\"./Data/cleaned_race_data.csv\")\n",
    "latLong_df = pd.read_csv('./Data/CensusTractToLatLong.csv')"
   ]
  },
  {
   "cell_type": "code",
   "execution_count": null,
   "metadata": {},
   "outputs": [],
   "source": [
    "# create Percent White column\n",
    "race_df[\"Percent White\"] = race_df[\"White\"] / race_df[\"Total Population\"]\n",
    "race_df[\"Percent Black\"] = race_df[\"Black\"] / race_df[\"Total Population\"]\n",
    "# merge race data with lat/long data\n",
    "race_df = race_df.merge(latLong_df, how=\"left\", left_on=\"Geo_ID\", right_on=\"GEOID\")"
   ]
  },
  {
   "cell_type": "code",
   "execution_count": null,
   "metadata": {},
   "outputs": [],
   "source": [
    "# get data from beginning and end of dataset\n",
    "race_df_2010 = race_df.loc[race_df[\"Year\"] == 2010]\n",
    "race_df_2018 = race_df.loc[race_df[\"Year\"] == 2018]\n",
    "\n",
    "race_df_2010.set_index(\"Geo_ID\", inplace=True)\n",
    "race_df_2018.set_index(\"Geo_ID\", inplace=True)\n",
    "\n",
    "# calculate change in percentage of white residents for each census tract\n",
    "change_white = race_df_2018[\"Percent White\"] - race_df_2010[\"Percent White\"]"
   ]
  },
  {
   "cell_type": "code",
   "execution_count": null,
   "metadata": {},
   "outputs": [],
   "source": [
    "# add race data to lat/long df\n",
    "latLong_df = latLong_df.merge(change_white, how=\"inner\", left_on=\"GEOID\", right_on=\"Geo_ID\")\n",
    "# update name\n",
    "latLong_df.rename(columns={\"Percent White\" : \"Change in Percent White\"}, inplace=True)\n",
    "# latLong_df[\"GEOID\"] = latLong_df[\"GEOID\"].astype(str)"
   ]
  },
  {
   "cell_type": "code",
   "execution_count": null,
   "metadata": {},
   "outputs": [],
   "source": [
    "m = fl.Map(\n",
    "    location = [29.9511, -90.0715],\n",
    "    zoom_start = 10,\n",
    "    tiles=\"Stamen Toner\")"
   ]
  },
  {
   "cell_type": "code",
   "execution_count": null,
   "metadata": {},
   "outputs": [],
   "source": [
    "latLong_df"
   ]
  },
  {
   "cell_type": "code",
   "execution_count": null,
   "metadata": {},
   "outputs": [],
   "source": [
    "fl.Choropleth(\n",
    "    geo_data=\"./Data/tract_nola.geojson\",\n",
    "    name=\"Change in Percent White from 2010 to 2018 by Census Tract\",\n",
    "    data=latLong_df,\n",
    "    columns=[\"GEOID\", \"Change in Percent White\"],\n",
    "    key_on='feature.properties.GEOID', \n",
    "    fill_color='YlGn',\n",
    "    fill_opacity=0.7,\n",
    "    line_opacity=0.2,\n",
    "    legend_name=\"Change in Percent White from 2010 to 2018 by Census Tract\"\n",
    "    ).add_to(m)"
   ]
  },
  {
   "cell_type": "code",
   "execution_count": null,
   "metadata": {},
   "outputs": [],
   "source": [
    "m"
   ]
  },
  {
   "cell_type": "code",
   "execution_count": null,
   "metadata": {},
   "outputs": [],
   "source": [
    "# create markers\n",
    "race_df_2010_markers = race_df_2010.loc[(race_df_2010[\"Percent Black\"] < 0.6) & (race_df_2010[\"Percent Black\"] > 0.4)]"
   ]
  },
  {
   "cell_type": "code",
   "execution_count": null,
   "metadata": {},
   "outputs": [],
   "source": [
    "# add markers to map\n",
    "race_df_2010_markers.apply(lambda x: fl.Circle([x[\"CENTLAT\"], x[\"CENTLON\"]], radius=10).add_to(m), axis=1)"
   ]
  },
  {
   "cell_type": "code",
   "execution_count": null,
   "metadata": {},
   "outputs": [],
   "source": [
    "m"
   ]
  },
  {
   "cell_type": "markdown",
   "metadata": {},
   "source": [
    "Measure Change in Skew of Income Distrbution"
   ]
  },
  {
   "cell_type": "code",
   "execution_count": null,
   "metadata": {},
   "outputs": [],
   "source": [
    "data = pd.read_csv('./Data/cleaned_income_data.csv')"
   ]
  },
  {
   "cell_type": "code",
   "execution_count": null,
   "metadata": {},
   "outputs": [],
   "source": [
    "new_data = data.loc[data[\"Year\"] == 2010]\n",
    "data_2011 = data.loc[data[\"Year\"] == 2011]\n",
    "new_data = new_data.set_index(\"Geo_ID\")\n",
    "data_2011 = data_2011.set_index(\"Geo_ID\")\n",
    "new_data[\"Mean Income / Median Income\"] = new_data[\"Household mean income (dollars)\"] / new_data[\"Household median income (dollars)\"]"
   ]
  },
  {
   "cell_type": "code",
   "execution_count": null,
   "metadata": {
    "scrolled": false
   },
   "outputs": [],
   "source": [
    "for i in range(2011, 2018):\n",
    "    \n",
    "    data_year = data.loc[data[\"Year\"] == i]\n",
    "    data_next = data.loc[data[\"Year\"] == i+1]\n",
    "\n",
    "    data_year = data_year.set_index(\"Geo_ID\")\n",
    "    data_next = data_next.set_index(\"Geo_ID\")\n",
    "    data_year[\"Mean Income / Median Income\"] = data_year[\"Household mean income (dollars)\"] / data_year[\"Household median income (dollars)\"]\n",
    "    #data_year[\"Change in Median Income\"] = data_year[\"Household median income (dollars)\"] - data_next[\"Household median income (dollars)\"]\n",
    "    #data_year[\"Change in Mean Income\"] = data_year[\"Household mean income (dollars)\"] - data_next[\"Household mean income (dollars)\"]\n",
    "    #data_year[\"Change Mean / Change Median\"] = data_year[\"Change in Mean Income\"] / data_year[\"Change in Median Income\"]\n",
    "    new_data = pd.concat([new_data, data_year])\n",
    "\n",
    "new_data"
   ]
  },
  {
   "cell_type": "code",
   "execution_count": null,
   "metadata": {},
   "outputs": [],
   "source": [
    "#race_df_2010_markers[\"GEOID\"] = race_df_2010_markers[\"GEOID\"].astype(str)\n",
    "# find identified tracts with positive change in white residents\n",
    "race_df_2010_markers = race_df_2010_markers.merge(latLong_df, how=\"inner\", on=\"GEOID\")\n",
    "race_df_2010_markers = race_df_2010_markers.loc[race_df_2010_markers[\"Change in Percent White\"] > 0]\n"
   ]
  },
  {
   "cell_type": "code",
   "execution_count": null,
   "metadata": {},
   "outputs": [],
   "source": [
    "# add mean income / median income data\n",
    "#race_df_2010_markers[\"GEOID\"] = race_df_2010_markers[\"GEOID\"].astype(np.int64)\n",
    "new_data = new_data.merge(race_df_2010_markers, how='inner', left_on=\"Geo_ID\", right_on=\"GEOID\")"
   ]
  },
  {
   "cell_type": "code",
   "execution_count": null,
   "metadata": {},
   "outputs": [],
   "source": [
    "fig, ax = plt.subplots(figsize = (30,10))\n",
    "year = np.linspace(2010, 2017, 8)\n",
    "\n",
    "for GEOID in new_data[\"GEOID\"].unique():\n",
    "    ax.scatter(year, new_data.loc[new_data[\"GEOID\"] == GEOID][\"Mean Income / Median Income\"], color = \"black\")\n",
    "\n",
    "\n",
    "ax.plot(year, new_data[[\"Mean Income / Median Income\", \"Year_x\"]].groupby([\"Year_x\"]).mean(), marker = \"D\", color=\"orange\", label = \"Average\")"
   ]
  },
  {
   "cell_type": "markdown",
   "metadata": {},
   "source": [
    "### Looking at the Change in Mean/Median Household Income for Census Tracts in our Revised Hypothesis"
   ]
  },
  {
   "cell_type": "code",
   "execution_count": null,
   "metadata": {},
   "outputs": [],
   "source": [
    "#Want to look at revised hypothesis census tracts and how median/mean income changed 2010-2018\n",
    "revised_hyp = cens_income[['Census Tract','Household median income (dollars)', \n",
    "                           'Household mean income (dollars)', 'Year']]\n",
    "#Set index to be able to call .loc\n",
    "revised_hyp = revised_hyp.set_index('Census Tract')\n",
    "\n",
    "#Only select Census Tracts in our hypothesis\n",
    "revised_hyp = revised_hyp.loc[rev_hyp]\n",
    "\n",
    "#Specifying only two years of data: 2010, 2018\n",
    "inc_change = revised_hyp[(revised_hyp.Year==2010) | (revised_hyp.Year==2018)]\n",
    "\n",
    "#Change index back\n",
    "inc_change.reset_index(inplace=True)\n",
    "\n",
    "#-------------------------------------------Plotting--------------------------------------------\n",
    "\n",
    "#set theme\n",
    "temp = theme\n",
    "\n",
    "ax1 = inc_change.pivot_table(index='Census Tract', \n",
    "                       columns='Year', values='Household median income (dollars)'\n",
    "                    ).plot.bar(figsize=(20,8), color=temp[:2], rot=0, fontsize='large')\n",
    "\n",
    "ax2 = inc_change.pivot_table(index='Census Tract', \n",
    "                       columns='Year', values='Household mean income (dollars)'\n",
    "                   ).plot.bar(figsize=(20,8), color=temp[2:4], rot=0, fontsize='large')\n",
    "\n",
    "#Setting labels and titles\n",
    "ax1.legend(fontsize=18)\n",
    "ax1.set_ylabel('Median Income')\n",
    "ax1.set_title('Comparison of Median Income in 2010 and 2018 for Census Tracts in our Revised Hypothesis', \n",
    "                                                                                          fontsize=22)\n",
    "ax2.legend(fontsize=18)\n",
    "ax2.set_ylabel('Mean Income')\n",
    "ax2.set_title('Comparison of Mean Income in 2010 and 2018 for Census Tracts in our Revised Hypothesis', \n",
    "                                                                                          fontsize=22)\n"
   ]
  },
  {
   "cell_type": "markdown",
   "metadata": {},
   "source": [
    "Both mean and median housheold income increased significantly from 2010-2018 in the Census Tracts defined by our revised hypothesis."
   ]
  },
  {
   "cell_type": "markdown",
   "metadata": {},
   "source": [
    "# Looking into Another Dataset\n",
    "**Source:** The Data Center analysis of data from U.S. Census 2000 Summary File 1 (SF1) and 2014-2018 American Community Survey. These data tables support Neighborhood Statistical Area Data Profiles. This includes 252 data points for all 72 neighborhood statistical areas, with New Orleans and United States comparisons. Data originates from Census 2000 and 2010, American Community Survey 2014–2018, and 2017 Local Employment Dynamics data — including housing and housing costs, income and poverty, transportation, educational attainment, language, employment, and more."
   ]
  },
  {
   "cell_type": "markdown",
   "metadata": {},
   "source": [
    "## Loading in and Cleaning the Data\n",
    "My analysis utilizes a combination of three different datasets:<br><br>\n",
    "`race_df`: The distribution of racial makeup for each neighborhood spanning 2000 and 2014-2018<br>\n",
    "`avg_income_df`: Average household income for each neighborhood spanning 2000 and 2014-2018<br>\n",
    "`avg_rent_df`: Average contract and gross rent (gross rent includes utilities) for each neighborhood in 2014-2018 only<br><br>\n",
    "By combining these datasets, we can visualize the way that racial makeup plays into average household income and average rent prices."
   ]
  },
  {
   "cell_type": "code",
   "execution_count": null,
   "metadata": {},
   "outputs": [],
   "source": [
    "#Loading in another dataset\n",
    "xls = pd.ExcelFile(\"./Data/Neighborhood profiles data tables.xlsx\")\n",
    "\n",
    "#import and clean racial distribution dataset\n",
    "race_df = pd.read_excel(xls, \"Table 4\", skiprows = 11)\n",
    "race_df.drop(columns = [\"Unnamed: 4\", \"Unnamed: 8\", \"Unnamed: 12\", \"Unnamed: 16\", \"Unnamed: 20\", \n",
    "                        \"Unnamed: 24\", \"MOE\", \"MOE.1\", \"MOE.2\", \"MOE.3\", \"MOE.4\", \"MOE.5\", \"MOE.6\", \n",
    "                        \"2000.4\", \"2014-2018.4\"], inplace=True)\n",
    "race_df.rename(columns = { \n",
    "    \"Unnamed: 0\" : \"Neighborhood\",\n",
    "    2000 : \"Percent Black in 2000\", \n",
    "    \"2014-2018\" : \"Percent Black in 2014-2018\",\n",
    "    \"2000.1\" : \"Percent White in 2000\", \n",
    "    \"2014-2018.1\" : \"Percent White in 2014-2018\",\n",
    "    \"2000.2\" : \"Percent Asian in 2000\", \n",
    "    \"2014-2018.2\" : \"Percent Asian in 2014-2018\",\n",
    "    \"2000.3\" : \"Percent American Indian in 2000\", \n",
    "    \"2014-2018.3\" : \"Percent American Indian in 2014-2018\",\n",
    "    \"2000.5\" : \"Percent Hispanic in 2000\", \n",
    "    \"2013-2017\" : \"Percent Hispanic in 2013-2017\",\n",
    "    \"2000.6\" : \"Percent Other in 2000\", \n",
    "    \"2013-2017.1\" : \"Percent Other in 2013-2017\"\n",
    "    }, inplace = True)\n",
    "\n",
    "race_df = race_df.replace('NaN%', 0)\n",
    "race_df.dropna(inplace=True)\n",
    "race_df[\"Percent Black in 2014-2018\"] = race_df[\"Percent Black in 2014-2018\"].astype(float)\n",
    "race_df[\"Percent White in 2014-2018\"] = race_df[\"Percent White in 2014-2018\"].astype(float)\n",
    "race_df[\"Percent Asian in 2014-2018\"] = race_df[\"Percent Asian in 2014-2018\"].astype(float)\n",
    "race_df[\"Percent American Indian in 2014-2018\"] = \\\n",
    "                        race_df[\"Percent American Indian in 2014-2018\"].astype(float)\n",
    "race_df[\"Percent Hispanic in 2013-2017\"] = race_df[\"Percent Hispanic in 2013-2017\"].astype(float)\n",
    "race_df[\"Percent Other in 2013-2017\"] = race_df[\"Percent Other in 2013-2017\"].astype(float)\n",
    "\n",
    "#Import and clean average household income data\n",
    "avg_income_df = pd.read_excel(xls, \"Table 14\", skiprows = 11)\n",
    "avg_income_df.drop(columns='MOE', inplace=True)\n",
    "avg_income_df.rename(columns = {'Unnamed: 0':'Neighborhood', 2000 : \"Avg Household Income in 2000\", \n",
    "    \"2014-2018\" : \"Avg Household Income in 2014-2018\"}, inplace=True)\n",
    "\n",
    "#Cleaning average rent data\n",
    "avg_rent_df = pd.read_excel(xls, \"Table 11\", skiprows = 11)\n",
    "avg_rent_df.drop(columns = [\"Unnamed: 3\",\"MOE\", \"MOE.1\"], inplace=True)\n",
    "avg_rent_df.rename(columns = { \n",
    "    \"Unnamed: 0\" : \"Neighborhood\",\n",
    "    \"2014-2018\" : \"Avg Contract Rent in 2014-2018\",\n",
    "    \"2014-2018.1\" : \"Avg Gross Rent in 2014-2018\"\n",
    "    }, inplace = True)"
   ]
  },
  {
   "cell_type": "markdown",
   "metadata": {},
   "source": [
    "This visualization simply demonstrates how drastically the shift in demographic was moving from 2000 to 2018 in this sample set of New Orleans neighborhoods. These large demographic changes in only a span of a few years are likely due to gentrification in New Orleans. We can utilize these results along with other neighborhood information to determine the areas experiencing the most impact."
   ]
  },
  {
   "cell_type": "markdown",
   "metadata": {},
   "source": [
    "### Comparing Correlation Between Average Household Income and Race in 2000 and 2014-2018\n",
    "For this visualization, I decided to compare the correlation between the racial makeup of each neighborhood in the dataset and its average household income. <br>\n",
    "To do so, I merged the dataset of racial makeup with that of average income and found the correlation. I then filtered out all of the columns for each respective year and created two datasets: `race_income_2000` and `race_income_2018` which each contain the relationship between the two variables for that year only. Finally, I plotted it so that the positive and negative correlations are clear."
   ]
  },
  {
   "cell_type": "code",
   "execution_count": null,
   "metadata": {},
   "outputs": [],
   "source": [
    "#Create dataframe comparing race and income\n",
    "race_income = avg_income_df.merge(race_df, how='outer', on='Neighborhood')\n",
    "\n",
    "#Create new column names for ease:\n",
    "new_cols = ['Percent Black', 'Percent White', 'Percent Asian', 'Percent American Indian', \n",
    "        'Percent Hispanic', 'Percent Other']\n",
    "\n",
    "#filter out datasets into 2000 and 2014-2018\n",
    "race_income_2000 = race_df.filter(regex='2000$',axis=1)\n",
    "race_income_2000.columns = new_cols\n",
    "race_income_2000['Neighborhood'] = race_df['Neighborhood']\n",
    "race_income_2000['Year'] = '2000'\n",
    "race_income_2000['Avg Household Income'] = race_income['Avg Household Income in 2000']\n",
    "\n",
    "race_income_2018 = race_df.filter(regex='201.$',axis=1)\n",
    "race_income_2018.columns = new_cols\n",
    "race_income_2018['Neighborhood'] = race_df['Neighborhood']\n",
    "race_income_2018['Year'] = '2014-2018'\n",
    "race_income_2018['Avg Household Income'] = race_income['Avg Household Income in 2014-2018'].replace(\n",
    "                                                                                '$NaN', np.nan).dropna()\n",
    "\n",
    "#correlation dataset for 2000 and 2014-2018\n",
    "corr_2000 = pd.DataFrame(race_income_2000.corr()['Avg Household Income']).reset_index()\n",
    "corr_2018 = pd.DataFrame(race_income_2018.corr()['Avg Household Income']).reset_index()\n",
    "\n",
    "#Merge the two datasets, adding a suffix for the year\n",
    "corr_by_year = corr_2000.merge(corr_2018, how='outer', on='index', suffixes=('_2000', '_2014-2018'))\n",
    "\n",
    "#Make column names more readable and drop Avg Household Inc's comparison with itself which is always 1\n",
    "corr_by_year.columns = ['Measure', 'Correlation in 2000', 'Correlation in 2014-2018']\n",
    "corr_by_year.drop(6, inplace=True)\n",
    "\n",
    "#Plot the pivot table with the appropriate Labels\n",
    "corr_by_year.pivot_table(index='Measure', \n",
    "                    values = ['Correlation in 2000', 'Correlation in 2014-2018']).plot.bar(\n",
    "                    title='Correlation Between Average Household Income and Race in 2000 and 2014-2018', \n",
    "                    figsize=(15,10), fontsize='large', rot=0, color=['#fa824c', '#f9db6d']).axhline(y=0, \n",
    "                                                                                        color='black')"
   ]
  },
  {
   "cell_type": "markdown",
   "metadata": {},
   "source": [
    "From this graph it is very clear to see that the percentage of black residents has a very strong negative correlation with average household income. The opposite is true for white residents. I found it interesting that the general trend when moving from 2000 to 2014-2018, the prevalence of races other than white had a more negative correlation with average household income."
   ]
  },
  {
   "cell_type": "markdown",
   "metadata": {},
   "source": [
    "### Visualizing the Correlation Between Average Contract Rent and Race in 2014-2018\n",
    "Similar to the previous graph, I wanted to illustrate how race is correlated with rent prices. <br>\n",
    "To do so, I followed a similar process by merging the dataset of racial makeup with that of average contract rent (excluding utilities) and found the correlation. Since the dataset only has rent prices for 2014-2018, I focused on a simple correlation graph rather than a comparison. Finally, I plotted it such that the positive and negative correlations are clear."
   ]
  },
  {
   "cell_type": "code",
   "execution_count": null,
   "metadata": {},
   "outputs": [],
   "source": [
    "#Create dataframe comparing race and rent\n",
    "race_rent = avg_rent_df.merge(race_df, how='outer', on='Neighborhood')\n",
    "\n",
    "race_rent_2018 = race_df.filter(regex='201.$',axis=1)\n",
    "race_rent_2018.columns = new_cols\n",
    "race_rent_2018['Neighborhood'] = race_df['Neighborhood']\n",
    "race_rent_2018['Year'] = '2014-2018'\n",
    "race_rent_2018['Avg Contract Rent'] = race_rent['Avg Contract Rent in 2014-2018'].replace(\n",
    "                                                                    'na', np.nan).dropna().astype(float)\n",
    "\n",
    "#correlation dataset for 2000 and 2014-2018\n",
    "corr_2018 = pd.DataFrame(race_rent_2018.corr()['Avg Contract Rent']).reset_index()\n",
    "\n",
    "\n",
    "#Make column names more readable and drop Avg Household Inc's comparison with itself which is always 1\n",
    "corr_2018.drop(6, inplace=True)\n",
    "\n",
    "#Plot the pivot table with the appropriate Labels\n",
    "corr_2018.pivot_table(index='index', \n",
    "                    values = ['Avg Contract Rent']).plot.bar(\n",
    "                    title='Correlation Between Avg Contract Rent and Race in 2014-2018', \n",
    "                    figsize=(15,8), fontsize='large', rot=0, color='#465c69').axhline(y=0, \n",
    "                                                                                        color='black')"
   ]
  },
  {
   "cell_type": "markdown",
   "metadata": {},
   "source": [
    "From this graph it is very clear to see that the percentage of black residents has a very strong negative correlation with average rent price. The opposite is true for white residents. This is consistent with the effects of gentrification: the larger the influx of white residents into a given area, the more expensive the rent becomes."
   ]
  },
  {
   "cell_type": "markdown",
   "metadata": {},
   "source": [
    "### Comparing Average Income in 2000 vs 2014-2018\n",
    "For this visualization, I simply made a boxplot showing Average Household Income in 2000 vs Average Household Income in 2014-2018 to more easily represent summary statistics for this variable."
   ]
  },
  {
   "cell_type": "code",
   "execution_count": null,
   "metadata": {},
   "outputs": [],
   "source": [
    "#Create two boxplots showing summary statistics\n",
    "\n",
    "#Year 2000\n",
    "plt.figure(figsize=(15,8))\n",
    "plt.subplot(1, 2, 1)\n",
    "p1 = sns.boxplot(data = race_income_2000, color='#f6f5c2', y = 'Avg Household Income', width=.7)\n",
    "p1.set_ylim(0, 275000)\n",
    "p1.set_ylabel(\"Dollars\")\n",
    "p1.set_title(\"Analysis of Average Household Income in 2000\")\n",
    "\n",
    "#Years 2014-2018\n",
    "plt.subplot(1, 2, 2)\n",
    "p2 = sns.boxplot(data = race_income_2018, color='#a1c8c1', y = 'Avg Household Income', width=.7)\n",
    "p2.set_ylim(0, 275000)\n",
    "p2.set_ylabel(\"\")\n",
    "p2.set_title(\"Analysis of Average Household Income in 2014-2018\")"
   ]
  },
  {
   "cell_type": "markdown",
   "metadata": {},
   "source": [
    "These two plots show that the median increased from 2000 to 2014-2018, and both the min and max expereinced an upward shift. The height of the box increased as well. Specifications on the statistics plotted here are made below."
   ]
  },
  {
   "cell_type": "markdown",
   "metadata": {},
   "source": [
    "# Summary Statistics and Measures of Central Tendency\n",
    "In order to summarize the dataset I've been working with, I created a table of summary statistics incorporating the describe() function along with the median, the variance, the interquartile range (IQR), and the mean absolute deviation (MAD) for each year."
   ]
  },
  {
   "cell_type": "code",
   "execution_count": null,
   "metadata": {},
   "outputs": [],
   "source": [
    "#Add row of median, variance, IQR, and Mean Absolute Deviation to 2000 data and 2014-2018 data \n",
    "\n",
    "#save summary stats\n",
    "stats_2000 = race_income_2000.describe()\n",
    "stats_2018 = race_income_2018.describe()\n",
    "\n",
    "#create dataframes\n",
    "more2000 = pd.DataFrame(columns=['index'] + stats_2000.columns.tolist())\n",
    "more2018 = pd.DataFrame(columns=['index'] + stats_2018.columns.tolist())\n",
    "\n",
    "#start lists with decription of stats\n",
    "IQR2000, IQR2018 = ['IQR'], ['IQR']\n",
    "var2000, var2018 = ['var'], ['var']\n",
    "med2000, med2018 = ['median'], ['median']\n",
    "mad2000, mad2018 = ['MAD'], ['MAD']\n",
    "\n",
    "\n",
    "#add stats to each respective list\n",
    "for c in stats_2018.columns:\n",
    "    IQR2000.append(race_income_2000[c].quantile(.75) - race_income_2000[c].quantile(.25))\n",
    "    IQR2018.append(race_income_2018[c].quantile(.75) - race_income_2018[c].quantile(.25))\n",
    "    var2000.append(race_income_2000[c].var())\n",
    "    var2018.append(race_income_2018[c].var())\n",
    "    med2000.append(race_income_2000[c].median())\n",
    "    med2018.append(race_income_2018[c].median())\n",
    "    mad2000.append(race_income_2000[c].mad())\n",
    "    mad2018.append(race_income_2018[c].mad())\n",
    "    \n",
    "    \n",
    "#add lists to dfs\n",
    "more2000.loc[0], more2018.loc[0] = med2000, med2018\n",
    "more2000.loc[1], more2018.loc[1] = var2000, var2018\n",
    "more2000.loc[2], more2018.loc[2] = IQR2000, IQR2018\n",
    "more2000.loc[3], more2018.loc[3] = mad2000, mad2018\n",
    "\n",
    "#add dfs back in\n",
    "stats_2000 = pd.concat([stats_2000.reset_index(), more2000]).set_index('index')\n",
    "stats_2018 = pd.concat([stats_2018.reset_index(), more2018]).set_index('index')\n",
    "\n",
    "#display data for 2000\n",
    "stats_2000"
   ]
  },
  {
   "cell_type": "code",
   "execution_count": null,
   "metadata": {},
   "outputs": [],
   "source": [
    "#display data for 2014-2018\n",
    "stats_2018"
   ]
  },
  {
   "cell_type": "markdown",
   "metadata": {},
   "source": [
    "From comparing the two tables, the data is pretty similar for the most part, however the average racial distribution of white residents has increased, ultimately shrinking that of black residents."
   ]
  },
  {
   "cell_type": "markdown",
   "metadata": {},
   "source": [
    "### Comparing Racial Distributions in 2000 vs 2014-2018\n",
    "For this visualization, I decided to compare the racial makeup of 10 neighborhoods in New Orleans using the data from 2000 and from 2014-2018. I chose the 10 neighborhoods by calculating those in which neighborhoods which experienced the largest increase in percentage of white residents between the two time periods. <br>\n",
    "To do so, I created two separate dataframes for the different time periods and concatenated them into a dataframe called race_by_year, and calculated the change in percentage of white inhabitants between the two datapoints, sorting them descendingly and saving the indices. "
   ]
  },
  {
   "cell_type": "code",
   "execution_count": 27,
   "metadata": {},
   "outputs": [
    {
     "ename": "NameError",
     "evalue": "name 'race_df' is not defined",
     "output_type": "error",
     "traceback": [
      "\u001b[0;31m---------------------------------------------------------------------------\u001b[0m",
      "\u001b[0;31mNameError\u001b[0m                                 Traceback (most recent call last)",
      "\u001b[0;32m<ipython-input-27-75951235682f>\u001b[0m in \u001b[0;36m<module>\u001b[0;34m\u001b[0m\n\u001b[1;32m      1\u001b[0m \u001b[0;31m#Extract all column names ending in \"2000\"\u001b[0m\u001b[0;34m\u001b[0m\u001b[0;34m\u001b[0m\u001b[0;34m\u001b[0m\u001b[0m\n\u001b[0;32m----> 2\u001b[0;31m \u001b[0mrace_in2000\u001b[0m \u001b[0;34m=\u001b[0m \u001b[0mrace_df\u001b[0m\u001b[0;34m.\u001b[0m\u001b[0mfilter\u001b[0m\u001b[0;34m(\u001b[0m\u001b[0mregex\u001b[0m\u001b[0;34m=\u001b[0m\u001b[0;34m'2000$'\u001b[0m\u001b[0;34m,\u001b[0m\u001b[0maxis\u001b[0m\u001b[0;34m=\u001b[0m\u001b[0;36m1\u001b[0m\u001b[0;34m)\u001b[0m\u001b[0;34m\u001b[0m\u001b[0;34m\u001b[0m\u001b[0m\n\u001b[0m\u001b[1;32m      3\u001b[0m \u001b[0mrace_in2000\u001b[0m\u001b[0;34m.\u001b[0m\u001b[0mcolumns\u001b[0m \u001b[0;34m=\u001b[0m \u001b[0mnew_cols\u001b[0m\u001b[0;34m\u001b[0m\u001b[0;34m\u001b[0m\u001b[0m\n\u001b[1;32m      4\u001b[0m \u001b[0mrace_in2000\u001b[0m\u001b[0;34m[\u001b[0m\u001b[0;34m'Neighborhood'\u001b[0m\u001b[0;34m]\u001b[0m \u001b[0;34m=\u001b[0m \u001b[0mrace_df\u001b[0m\u001b[0;34m[\u001b[0m\u001b[0;34m'Neighborhood'\u001b[0m\u001b[0;34m]\u001b[0m\u001b[0;34m\u001b[0m\u001b[0;34m\u001b[0m\u001b[0m\n\u001b[1;32m      5\u001b[0m \u001b[0mrace_in2000\u001b[0m\u001b[0;34m[\u001b[0m\u001b[0;34m'Year'\u001b[0m\u001b[0;34m]\u001b[0m \u001b[0;34m=\u001b[0m \u001b[0;34m'2000'\u001b[0m\u001b[0;34m\u001b[0m\u001b[0;34m\u001b[0m\u001b[0m\n",
      "\u001b[0;31mNameError\u001b[0m: name 'race_df' is not defined"
     ]
    }
   ],
   "source": [
    "#Extract all column names ending in \"2000\"\n",
    "race_in2000 = race_df.filter(regex='2000$',axis=1)\n",
    "race_in2000.columns = new_cols\n",
    "race_in2000['Neighborhood'] = race_df['Neighborhood']\n",
    "race_in2000['Year'] = '2000'\n",
    "\n",
    "\n",
    "#Extract all column names ending in \"201_\"\n",
    "race_in2018 = race_df.filter(regex='201.$',axis=1)\n",
    "race_in2018.columns = new_cols\n",
    "race_in2018['Neighborhood'] = race_df['Neighborhood']\n",
    "race_in2018['Year'] = '2014-2018'\n",
    "\n",
    "#combine the two dfs\n",
    "race_by_year = pd.concat([race_in2000, race_in2018])\n",
    "\n",
    "\n",
    "#Calculate which neighborhoods had the biggest influx of white people between the two time periods:\n",
    "\n",
    "#Subtract most recent data from old data\n",
    "race_by_year['Change in White'] = race_in2018['Percent White'] - race_in2000['Percent White']\n",
    "\n",
    "#Sort values ascendingly and save indexes of the first 15 values\n",
    "# **Note: head is set to 30 because there are duplicate values and we want 15\n",
    "idxs = list(race_by_year['Change in White'].sort_values(ascending=False).head(30).to_dict().keys())\n",
    "\n",
    "#Save the 10 neighborhoods with the highest increase in population of white people\n",
    "highest_change = race_by_year.iloc[idxs]['Neighborhood'].tolist()\n",
    "\n",
    "order = ['Percent White', 'Percent Black', 'Percent Hispanic', 'Percent Asian', \n",
    "         'Percent American Indian', 'Percent Other']\n",
    "\n",
    "#Create subsets for each of the years for comparison\n",
    "subset_2000 = race_in2000[race_df.Neighborhood.isin(highest_change)].sort_values(by='Percent White')\n",
    "subset_2018 = race_in2018[race_df.Neighborhood.isin(highest_change)].sort_values(by='Percent White')\n",
    "\n",
    "#-------------------------------------------Plotting--------------------------------------------\n",
    "\n",
    "#color theme for graphs -- using a different theme to distinguish between datasets\n",
    "theme2 = ['#f9db6d', '#eff5fb', '#a2c7e5', '#465c69', '#e4572e', '#fa824c']\n",
    "\n",
    "#Create pivot tables and plot\n",
    "subset_2000.pivot_table(index='Neighborhood', values=order).plot.bar(stacked=True, fontsize='large',\n",
    "                            rot=40, figsize=(15,6), color=theme2, title='Race Distribution in 2000'\n",
    "                                        ).legend(bbox_to_anchor=(.8, 1))\n",
    "subset_2018.pivot_table(index='Neighborhood', values=order).plot.bar(stacked=True, fontsize='large',\n",
    "                        rot=40, figsize=(15,6), color=theme2, title='Race Distribution in 2014-2018'\n",
    "                                        ).legend(bbox_to_anchor=(1, -.2))\n",
    "\n"
   ]
  },
  {
   "cell_type": "markdown",
   "metadata": {},
   "source": [
    "## How Did Factors Like Average Household Income Change for These Neighborhoods between the Two Time Periods?\n",
    "Before, we concluded from the data that there is a strong positive correlation between both average rent price and average household income with the percentage of White residents, while the opposite is true for the percentage of Black residents. Since we only have average rent data for 2014-2018, let's see how the mean income in these specific neighborhoods changed from 2000 - 2018."
   ]
  },
  {
   "cell_type": "code",
   "execution_count": null,
   "metadata": {},
   "outputs": [],
   "source": [
    "rand.shuffle(theme2)\n",
    "\n",
    "#Comparing average income in 2000 vs 2014-2018\n",
    "ax = avg_income_df[avg_income_df.Neighborhood.isin(highest_change)].plot.bar(\n",
    "    x='Neighborhood', rot=30, figsize=(20,10), color=theme2, fontsize='x-large')\n",
    "\n",
    "ax.set_title('Comparing Average Income in 2000 vs 2014-2018', fontsize=22)\n",
    "ax.set_xlabel('Neighborhood', labelpad=10, fontsize=18)\n",
    "ax.set_ylabel('Average Household Income', labelpad=10, fontsize=18)\n",
    "ax.legend(fontsize=16)"
   ]
  },
  {
   "cell_type": "markdown",
   "metadata": {},
   "source": [
    "From this graph, one can clearly deduce that in the majority of these neighborhoods, mean household income experienced a dramatic rise from 2000 to 2014-2018. This is consistent with what we know about gentrification since typically, wealthier people move into poorer neighborhoods, which would raise the average income significantly."
   ]
  },
  {
   "cell_type": "markdown",
   "metadata": {},
   "source": [
    "## Loading in and Cleaning More Datasets To Measure Gentrification\n",
    "Now that we have the 15 neighborhoods which experienced the largest influx of White residents from 2000 to when a survey was conducted in 2014-2018, we can look at other factors other than pure racial distribution to determine whether this change in racial makeup is consistent with other factors of gentrification. <br><br>\n",
    "**Datasets we will analyze:<br>**\n",
    "`inc_dist_df`: This dataset breaks down income distribution into 16 categories for each neighborhood in both 2000 and 2014-2018. Plotting the data with this many categories made it difficult to show anything on the graph, so we decided to combine and redefine the boundaries for easier visualization<br>\n",
    "`household`: Number of family households vs total households in each neighborhood spanning 2000 and 2014-2018<br>\n",
    "`pov_df`: Percent of people living in poverty for each neighborhood spanning 2000 and 2014-2018<br>\n",
    "`schooling_df`: Percent highest level of schooling  for each neighborhood spanning 2000 and 2014-2018<br>\n",
    "`transport`: Access to personal vehicle for each neighborhood spanning 2000 and 2014-2018<br>\n",
    "`wage`: Average monthly wage for each neighborhood in 2004-2017<br>\n",
    "`pct_on_housing`: Percentage of renter-occupied and owner-occupied housing paying 30% of their income or more on housing for each neighborhood in 2014-2018 only\n",
    "<br><br>\n",
    "By looking at each of these datasets using the subset of neighborhoods which underwent the largest positive change in White residents, we can see the effects of gentrification."
   ]
  },
  {
   "cell_type": "code",
   "execution_count": null,
   "metadata": {},
   "outputs": [],
   "source": [
    "#Loading and cleaning datasets related to measuring gentrification: \n",
    "\n",
    "#Cleaning income distribution data\n",
    "inc_dist_df = pd.read_excel(xls, \"Table 15\", skiprows = 11)\n",
    "inc_dist_df.drop(columns = [\"Unnamed: 4\", \"Unnamed: 8\", \"Unnamed: 12\", \n",
    "                            \"Unnamed: 16\", \"Unnamed: 20\", \"Unnamed: 24\",\"Unnamed: 28\", \"Unnamed: 32\", \n",
    "                            \"Unnamed: 36\", \"Unnamed: 40\", \"Unnamed: 44\", \"Unnamed: 48\", \"Unnamed: 52\",\n",
    "                            \"Unnamed: 56\", \"Unnamed: 60\", \n",
    "                            \"MOE\", \"MOE.1\", \"MOE.2\", \"MOE.3\", \"MOE.4\", \"MOE.5\", \n",
    "                            \"MOE.6\", \"MOE.7\", \"MOE.8\", \"MOE.9\", \"MOE.10\",\n",
    "                            \"MOE.11\", \"MOE.12\", \"MOE.13\", \"MOE.14\", \"MOE.15\"], inplace=True)\n",
    "\n",
    "inc_dist_df.rename(columns = { \n",
    "    \"Unnamed: 0\" : \"Neighborhood\",\n",
    "    2000 : \"Percent Income Under $10K in 2000\", \n",
    "    \"2000.1\" : \"Percent Income $10K-$15K in 2000\",\n",
    "    \"2000.2\" : \"Percent Income $15K-$20K in 2000\",\n",
    "    \"2000.3\" : \"Percent Income $20K-$25K in 2000\",\n",
    "    \"2000.4\" : \"Percent Income $25K-$30K in 2000\",\n",
    "    \"2000.5\" : \"Percent Income $30K-$35K in 2000\",\n",
    "    \"2000.6\" : \"Percent Income $35K-$40K in 2000\",\n",
    "    \"2000.7\" : \"Percent Income $40K-$45K in 2000\",\n",
    "    \"2000.8\" : \"Percent Income $45K-$50K in 2000\",\n",
    "    \"2000.9\" : \"Percent Income $50K-$60K in 2000\",\n",
    "    \"2000.10\" : \"Percent Income $60K-$75K in 2000\",\n",
    "    \"2000.11\" : \"Percent Income $75K-$100K in 2000\",\n",
    "    \"2000.12\" : \"Percent Income $100K-$125K in 2000\",\n",
    "    \"2000.13\" : \"Percent Income $125K-$150K in 2000\",\n",
    "    \"2000.14\" : \"Percent Income $150K-$200K in 2000\",\n",
    "    \"2000.15\" : \"Percent Income $200K+ in 2000\",\n",
    "    \"2014-2018\" : \"Percent Income Under $10K in 2014-2018\", \n",
    "    \"2014-2018.1\" : \"Percent Income $10K-$15K in 2014-2018\",\n",
    "    \"2014-2018.2\" : \"Percent Income $15K-$20K in 2014-2018\",\n",
    "    \"2014-2018.3\" : \"Percent Income $20K-$25K in 2014-2018\",\n",
    "    \"2014-2018.4\" : \"Percent Income $25K-$30K in 2014-2018\",\n",
    "    \"2014-2018.5\" : \"Percent Income $30K-$35K in 2014-2018\",\n",
    "    \"2014-2018.6\" : \"Percent Income $35K-$40K in 2014-2018\",\n",
    "    \"2014-2018.7\" : \"Percent Income $40K-$45K in 2014-2018\",\n",
    "    \"2014-2018.8\" : \"Percent Income $45K-$50K in 2014-2018\",\n",
    "    \"2014-2018.9\" : \"Percent Income $50K-$60K in 2014-2018\",\n",
    "    \"2014-2018.10\" : \"Percent Income $60K-$75K in 2014-2018\",\n",
    "    \"2014-2018.11\" : \"Percent Income $75K-$100K in 2014-2018\",\n",
    "    \"2014-2018.12\" : \"Percent Income $100K-$125K in 2014-2018\",\n",
    "    \"2014-2018.13\" : \"Percent Income $125K-$150K in 2014-2018\",\n",
    "    \"2014-2018.14\" : \"Percent Income $150K-$200K in 2014-2018\",\n",
    "    \"2014-2018.15\" : \"Percent Income $200K+ in 2014-2018\",\n",
    "    }, inplace = True)\n",
    "\n",
    "#Redefine bounds\n",
    "\n",
    "inc_dist = inc_dist_df\n",
    "dists = ['Percent Income Under $10K in 2000',\n",
    "       'Percent Income Under $10K in 2014-2018',\n",
    "         'Percent Income $10K-$35K in 2000',\n",
    "         'Percent Income $10K-$35K in 2014-2018',\n",
    "         'Percent Income $35K-$60K in 2000',\n",
    "         'Percent Income $35K-$60K in 2014-2018',\n",
    "         'Percent Income $60K-$100K in 2000',\n",
    "         'Percent Income $60K-$100K in 2014-2018',\n",
    "         'Percent Income $100K-$200K in 2000',\n",
    "         'Percent Income $100K-$200K in 2014-2018',\n",
    "         'Percent Income $200K+ in 2000', 'Percent Income $200K+ in 2014-2018']\n",
    "inc_dist_col = ['Neighborhood'] + dists\n",
    "inc_dist['Percent Income $10K-$35K in 2000'] = (\n",
    "    inc_dist[ 'Percent Income $10K-$15K in 2000'] +\n",
    "    inc_dist[ 'Percent Income $15K-$20K in 2000'] + \n",
    "    inc_dist['Percent Income $20K-$25K in 2000'] + \n",
    "    inc_dist['Percent Income $25K-$30K in 2000']+\n",
    "    inc_dist['Percent Income $30K-$35K in 2000'])\n",
    "inc_dist['Percent Income $35K-$60K in 2000'] = (\n",
    "    inc_dist[ 'Percent Income $35K-$40K in 2000'] +\n",
    "    inc_dist[ 'Percent Income $40K-$45K in 2000'] + \n",
    "    inc_dist['Percent Income $45K-$50K in 2000'] + \n",
    "    inc_dist['Percent Income $50K-$60K in 2000'])\n",
    "inc_dist['Percent Income $60K-$100K in 2000'] = (\n",
    "    inc_dist[ 'Percent Income $60K-$75K in 2000'] +\n",
    "    inc_dist[ 'Percent Income $75K-$100K in 2000'])\n",
    "inc_dist['Percent Income $100K-$200K in 2000']= (\n",
    "    inc_dist[ 'Percent Income $100K-$125K in 2000'] +\n",
    "    inc_dist[ 'Percent Income $125K-$150K in 2000'] + \n",
    "    inc_dist['Percent Income $150K-$200K in 2000'])\n",
    "\n",
    "inc_dist['Percent Income $10K-$35K in 2014-2018'] = (\n",
    "    inc_dist[ 'Percent Income $10K-$15K in 2014-2018'] +\n",
    "    inc_dist[ 'Percent Income $15K-$20K in 2014-2018'] + \n",
    "    inc_dist['Percent Income $20K-$25K in 2014-2018'] + \n",
    "    inc_dist['Percent Income $25K-$30K in 2014-2018']+\n",
    "    inc_dist['Percent Income $30K-$35K in 2014-2018'])\n",
    "inc_dist['Percent Income $35K-$60K in 2014-2018'] = (\n",
    "    inc_dist[ 'Percent Income $35K-$40K in 2014-2018'] +\n",
    "    inc_dist[ 'Percent Income $40K-$45K in 2014-2018'] + \n",
    "    inc_dist['Percent Income $45K-$50K in 2014-2018'] + \n",
    "    inc_dist['Percent Income $50K-$60K in 2014-2018'])\n",
    "inc_dist['Percent Income $60K-$100K in 2014-2018'] = (\n",
    "    inc_dist[ 'Percent Income $60K-$75K in 2014-2018'] +\n",
    "    inc_dist[ 'Percent Income $75K-$100K in 2014-2018'])\n",
    "inc_dist['Percent Income $100K-$200K in 2014-2018']= (\n",
    "    inc_dist[ 'Percent Income $100K-$125K in 2014-2018'] +\n",
    "    inc_dist[ 'Percent Income $125K-$150K in 2014-2018'] + \n",
    "    inc_dist['Percent Income $150K-$200K in 2014-2018'])\n",
    "\n",
    "#Loading and cleaning household data: shows family households and non-family households\n",
    "household = pd.read_excel(xls, \"Table 1\", skiprows = 11)\n",
    "household.drop(columns = [\"Unnamed: 4\",\"MOE\", \"MOE.1\", \"Unnamed: 8\",\"MOE.2\", \n",
    "                           2000, \"2014-2018\"], inplace=True)\n",
    "household.rename(columns = { \n",
    "    \"Unnamed: 0\" : \"Neighborhood\",\n",
    "    \"2000.1\" : \"Total Households in 2000\",\n",
    "    \"2014-2018.1\" : \"Total Households in  2014-2018\",\n",
    "    \"2000.2\" : \"Family Households in 2000\",\n",
    "    \"2014-2018.2\" : \"Family Households in 2014-2018\"\n",
    "    }, inplace = True)\n",
    "household.dropna(inplace=True)\n",
    "\n",
    "#Loading and cleaning poverty database: shows poverty rate in each neighborhood in 2 different periods\n",
    "pov_df = pd.read_excel(xls, \"Table 16\", skiprows = 11)\n",
    "pov_df.drop(columns = [\"Unnamed: 4\",\"MOE\", \"MOE.1\"], inplace=True)\n",
    "pov_df.rename(columns = { \n",
    "    \"Unnamed: 0\" : \"Neighborhood\",\n",
    "    \"2000.1\" : \"Pct at/above Poverty in 2000\",\n",
    "    \"2014-2018.1\" : \"Pct at/above Poverty in 2014-2018\",\n",
    "    2000 : \"Pct in Poverty in 2000\",\n",
    "    \"2014-2018\" : \"Pct in Poverty in 2014-2018\"\n",
    "    }, inplace = True)\n",
    "pov_df.dropna(inplace=True)\n",
    "\n",
    "#Schooling data: divided into two graphs: finishing somewhere in high school vs college/above\n",
    "school_df = pd.read_excel(xls, \"Table 20\", skiprows = 11)\n",
    "school_df.drop(columns = [\"Unnamed: 4\", \"Unnamed: 8\", \"Unnamed: 12\", \n",
    "    \"Unnamed: 16\", \"Unnamed: 20\", \"Unnamed: 24\", \"MOE\", \"MOE.1\", \"MOE.2\", \"MOE.3\",\n",
    "    \"MOE.4\", \"MOE.5\", \"MOE.6\"], inplace=True)\n",
    "\n",
    "school_df.rename(columns = { \n",
    "    2000 : \"<9th Grade in 2000\",\n",
    "    \"2014-2018\" : \"<9th Grade in 2014-2018\",\n",
    "    \"Unnamed: 0\" : \"Neighborhood\",\n",
    "    \"2000.1\" : \"9-12th Grade in 2000\",\n",
    "    \"2014-2018.1\" : \"9-12th Grade in 2014-2018\",\n",
    "    \"2000.2\" : \"HS Diploma/GED in 2000\",\n",
    "    \"2014-2018.2\" : \"HS Diploma/GED in 2014-2018\",\n",
    "    \"2000.3\" : \"Some College in 2000\",\n",
    "    \"2014-2018.3\" : \"Some College in 2014-2018\",\n",
    "    \"2000.4\" : \"Associate's in 2000\",\n",
    "    \"2014-2018.4\" : \"Associate's in 2014-2018\",\n",
    "    \"2000.5\" : \"Bachelor's in 2000\",\n",
    "    \"2014-2018.5\" : \"Bachelor's in 2014-2018\",\n",
    "    \"2000.6\" : \"Graduate's and prof. in 2000\",\n",
    "    \"2014-2018.6\" : \"Graduate's and prof. in 2014-2018\",\n",
    "    }, inplace = True)\n",
    "school_df.dropna(inplace=True)\n",
    "\n",
    "#highschool dataset\n",
    "school_df_hs = school_df[['Neighborhood', '<9th Grade in 2000', \n",
    "        '<9th Grade in 2014-2018',\n",
    "       '9-12th Grade in 2000', '9-12th Grade in 2014-2018',\n",
    "       'HS Diploma/GED in 2000', 'HS Diploma/GED in 2014-2018']]\n",
    "\n",
    "#university and beyond dataset\n",
    "school_df_uni = school_df[['Neighborhood', 'Associate\\'s in 2000', \n",
    "        'Associate\\'s in 2014-2018', 'Bachelor\\'s in 2000',\n",
    "       'Bachelor\\'s in 2014-2018', 'Graduate\\'s and prof. in 2000',\n",
    "       'Graduate\\'s and prof. in 2014-2018']]\n",
    "\n",
    "#Loading/cleaning transportation data: divide into access to a vehicle vs not\n",
    "transport = pd.read_excel(xls, \"Table 17\", skiprows = 11)\n",
    "transport.drop(columns = [\"Unnamed: 4\",\"MOE\", \"MOE.1\", \"Unnamed: 8\",\"MOE.2\", \n",
    "                          ], inplace=True)\n",
    "transport.rename(columns = { \n",
    "    \"Unnamed: 0\" : \"Neighborhood\",\n",
    "    2000: \"No Vehicle in 2000\",\n",
    "    \"2014-2018\": \"No Vehicle in 2014-2018\",\n",
    "    \"2000.1\" : \"1 Vehicle in 2000\",\n",
    "    \"2014-2018.1\" : \"1 Vehicle in 2014-2018\",\n",
    "    \"2000.2\" : \"2+ Vehicles in 2000\",\n",
    "    \"2014-2018.2\" : \"2+ Vehicles in 2014-2018\"\n",
    "    }, inplace = True)\n",
    "transport.dropna(inplace=True)\n",
    "transport[\">=1 Vehicle in 2000\"] = transport[\"1 Vehicle in 2000\"] + transport[\"2+ Vehicles in 2000\"]\n",
    "transport[\">=1 Vehicle in 2014-2018\"] = (transport[\"1 Vehicle in 2014-2018\"] +\n",
    "                                         transport[\"2+ Vehicles in 2014-2018\"]\n",
    ")\n",
    "\n",
    "#Loading/Cleaning Monthly wage dataset\n",
    "wage = pd.read_excel(xls, \"Table 22\", skiprows = 11)\n",
    "wage.drop(columns = [2004,         2017, 'Unnamed: 3','Unnamed: 6','Unnamed: 9'], inplace=True)\n",
    "wage.rename(columns = { \n",
    "    \"Unnamed: 0\" : \"Neighborhood\",\n",
    "    \"2004.1\" : \"<=$1,250/month in 2004\",\n",
    "    \"2017.1\" : \"<=$1,250/month in 2017\",\n",
    "    \"2004.2\" : \"$1,251 - $3,333/month in 2004\",\n",
    "    \"2017.2\" : \"$1,251 - $3,333/month in 2017\",\n",
    "    \"2004.3\" : \">$3,333/month in 2004\",\n",
    "    \"2017.3\" : \">$3,333/month in 2017\",\n",
    "    }, inplace = True)\n",
    "wage.dropna(inplace=True)\n",
    "\n",
    "# Cleaning percent of income spent on housing data for owner-occupied vs renter-occupied\n",
    "pct_on_housing = pd.read_excel(xls, \"Table 12\", skiprows = 11)\n",
    "pct_on_housing.drop(columns = [\"Unnamed: 3\",\"MOE\", \"MOE.1\"], inplace=True)\n",
    "pct_on_housing.rename(columns = { \n",
    "    \"Unnamed: 0\" : \"Neighborhood\",\n",
    "    \"2014-2018.1\" : \"Renter Occ paying >=30%\",\n",
    "    \"2014-2018\" : \"Owner Occ paying >=30%\"\n",
    "    }, inplace = True)\n",
    "pct_on_housing.dropna(inplace=True)"
   ]
  },
  {
   "cell_type": "code",
   "execution_count": null,
   "metadata": {},
   "outputs": [],
   "source": [
    "#Plotting these features:\n",
    "\n",
    "#Income distribution categories in 2000 vs 2014-2018\n",
    "#*Note: selected a subset of 5 neighborhoods to better view information\n",
    "\n",
    "ax = inc_dist[inc_dist_df.Neighborhood.isin(highest_change[:5])][inc_dist_col].plot.bar(\n",
    "    x='Neighborhood', rot=0, figsize=(20,10), color=theme2, fontsize='x-large')\n",
    "\n",
    "#Titles/legend\n",
    "ax.set_title('Income Distribution Categories in 2000 vs 2014-2018', fontsize=22)\n",
    "ax.set_xlabel('Neighborhood', labelpad=10, fontsize=18)\n",
    "ax.set_ylabel('Percent Income in Category', labelpad=10, fontsize=18)\n",
    "ax.legend(bbox_to_anchor=(.9, 1), fontsize=12)\n"
   ]
  },
  {
   "cell_type": "markdown",
   "metadata": {},
   "source": [
    "From this graph, we chose to show a subset of only 5 of the 15 neighborhoods in order to more clearly show the distributions. Looking at the different columns, it's clear that Percent Income Under \\\\$10K and Percent Income between \\\\$10K-35K dropped dramatically from the first of the two time periods to the second. In the same vein, the percentages of higher income brackets increased substantially. This is also consistent with the impact of gentrification on a neighborhood because gentrification attracts residents from higher income brackets than in previous years, so we would expect the percentage of residents making \\\\$100K or more to increase."
   ]
  },
  {
   "cell_type": "code",
   "execution_count": null,
   "metadata": {},
   "outputs": [],
   "source": [
    "rand.shuffle(theme2)\n",
    "\n",
    "#Comparing household types in 2000 vs 2014-2018\n",
    "\n",
    "ax = household[household.Neighborhood.isin(highest_change)][['Neighborhood','Family Households in 2000',\n",
    "                         'Family Households in 2014-2018']].plot.bar(x='Neighborhood', rot=30, \n",
    "                                            figsize=(20,10), color=theme2, fontsize='x-large')\n",
    "#Titles/legend\n",
    "ax.set_title('Comparing Number of Family Households in 2000 vs 2014-2018', fontsize=22)\n",
    "ax.set_xlabel('Neighborhood', labelpad=10, fontsize=18)\n",
    "ax.set_ylabel('Family Households', labelpad=10, fontsize=18)\n",
    "ax.legend(fontsize=16)"
   ]
  },
  {
   "cell_type": "markdown",
   "metadata": {},
   "source": [
    "From this graph, we can see that the number of family households in most of the neighborhoods shown decreased from 2000 to 2014-2018. One possible explanation for this would be that when an area becomes gentrified, investors will often buy properties low, expecting them to shoot up in value. These investor-owned properties would then displace some of the family households previously residing in each neighborhood. Therefore, this dataset is consistent with gentrification in these neighborhoods as well."
   ]
  },
  {
   "cell_type": "code",
   "execution_count": null,
   "metadata": {},
   "outputs": [],
   "source": [
    "rand.shuffle(theme2)\n",
    "\n",
    "#Comparing number in poverty in 2000 vs 2014-2018\n",
    "\n",
    "ax = pov_df[pov_df.Neighborhood.isin(highest_change)][['Neighborhood',\n",
    "                    \"Pct in Poverty in 2000\", \"Pct in Poverty in 2014-2018\"]].plot.bar(x='Neighborhood', \n",
    "                                            rot=30, figsize=(20,10), color=theme2, fontsize='x-large')\n",
    "#Titles/legend\n",
    "ax.set_title('Comparing Percentage of People in Poverty in 2000 vs 2014-2018', fontsize=22)\n",
    "ax.set_xlabel('Neighborhood', labelpad=10, fontsize=18)\n",
    "ax.set_ylabel('Percent in Poverty', labelpad=10, fontsize=18)\n",
    "ax.legend(fontsize=16)\n"
   ]
  },
  {
   "cell_type": "markdown",
   "metadata": {},
   "source": [
    "From this graph, we can see that the percentage of residents living in poverty decreased quite a bit from 2000 to 2014-2018. This is consistent with what we know about gentrification as well, since, as we mentioned previously, wealthier residents displace poorer residents, causing the poverty rate to fall."
   ]
  },
  {
   "cell_type": "code",
   "execution_count": null,
   "metadata": {},
   "outputs": [],
   "source": [
    "rand.shuffle(theme2)\n",
    "\n",
    "#Comparing highest level of schooling in 2000 vs 2014-2018\n",
    "#*Note: selected a subset of 5 neighborhoods to better view information\n",
    "\n",
    "#Schooling ended somewhere in high school\n",
    "\n",
    "ax1 = school_df_hs[school_df_hs.Neighborhood.isin(highest_change[:8])].plot.bar(\n",
    "    x='Neighborhood', rot=0, figsize=(20,10), color=theme2, fontsize='x-large')\n",
    "\n",
    "#Titles/legend\n",
    "ax1.set_title('Percent Highest Level of Schooling (High School) in 2000 vs 2014-2018', \n",
    "                                                                                  fontsize=22)\n",
    "ax1.set_xlabel('Neighborhood', labelpad=10, fontsize=18)\n",
    "ax1.set_ylabel('Percent in Category', labelpad=10, fontsize=18)\n",
    "ax1.legend(fontsize=14)\n",
    "\n",
    "rand.shuffle(theme2)\n",
    "\n",
    "#Schooling ended somewhere in college\n",
    "\n",
    "ax2 = school_df_uni[school_df_uni.Neighborhood.isin(highest_change[:8])].plot.bar(\n",
    "    x='Neighborhood', rot=0, figsize=(20,10), color=theme2, fontsize='x-large')\n",
    "\n",
    "#Titles/legend\n",
    "ax2.set_title('Percent Highest Level of Schooling (University and beyond) in 2000 vs 2014-2018', \n",
    "                                                                                          fontsize=22)\n",
    "ax2.set_xlabel('Neighborhood', labelpad=10, fontsize=18)\n",
    "ax2.set_ylabel('Percent in Category', labelpad=10, fontsize=18)\n",
    "ax2.legend(fontsize=14)\n",
    "\n"
   ]
  },
  {
   "cell_type": "markdown",
   "metadata": {},
   "source": [
    "I find this graph very interesting. Since there were so many different categories in this dataset, I found the best way to visualize what it's showing was to separate the categories into two different graphs: the highest level of schooling ending somewhere in high school, and the highest level of schooling ending somewhere in university or even higher education. In order to be able to see the columns, there are only 8 neighborhoods represented instead of 15.<br>\n",
    "\n",
    "That being said, looking at the first graph, it is clear that the percentage of residents terminating their formal education anywhere in high school decreased significantly from 2000 to 2014-2018. This is consisten with the second graph as well, since the percentage of college or higher-educated individuals shot up by 2018. This makes a lot of sense in terms of gentrification because we would expect wealthier, more highly educated residents to displace those that lived there previously."
   ]
  },
  {
   "cell_type": "code",
   "execution_count": null,
   "metadata": {},
   "outputs": [],
   "source": [
    "rand.shuffle(theme2)\n",
    "\n",
    "#Comparing access to transportation in 2000 vs 2014-2018\n",
    "\n",
    "ax = transport[transport.Neighborhood.isin(highest_change)][['Neighborhood', \"No Vehicle in 2000\", \n",
    "                                        \"No Vehicle in 2014-2018\"]].plot.bar(x='Neighborhood', rot=30, \n",
    "                                                figsize=(20,10), color=theme2, fontsize='x-large')\n",
    "\n",
    "#Titles/legend\n",
    "ax.set_title('Comparing Access to Transportation in 2000 vs 2014-2018', fontsize=22)\n",
    "ax.set_xlabel('Neighborhood', labelpad=10, fontsize=18)\n",
    "ax.set_ylabel('Percent in Category', labelpad=10, fontsize=18)\n",
    "ax.legend(fontsize=16)"
   ]
  },
  {
   "cell_type": "markdown",
   "metadata": {},
   "source": [
    "From this graph, we can see that the percentage of residents without access to a vehicle decreased significantly from 2000 to 2014-2018. This indicates the potential presence of gentrification since wealthier residents are more likely to own one or more vehicles."
   ]
  },
  {
   "cell_type": "code",
   "execution_count": null,
   "metadata": {},
   "outputs": [],
   "source": [
    "rand.shuffle(theme2)\n",
    "\n",
    "#Comparing monthly wage in 2000 vs 2014-2018\n",
    "\n",
    "ax = wage[wage.Neighborhood.isin(highest_change)][['Neighborhood', '>$3,333/month in 2004', \n",
    "                                    '>$3,333/month in 2017']].plot.bar(\n",
    "    x='Neighborhood', rot=30, figsize=(20,10), color=theme2, fontsize='x-large')\n",
    "\n",
    "#Titles/legend\n",
    "ax.set_title('Comparing Average Monthly Wage in 2004 vs 2017', fontsize=22)\n",
    "ax.set_xlabel('Neighborhood', labelpad=10, fontsize=18)\n",
    "ax.set_ylabel('Percent in Category', labelpad=10, fontsize=18)\n",
    "ax.legend(fontsize=16)\n"
   ]
  },
  {
   "cell_type": "markdown",
   "metadata": {},
   "source": [
    "This graph divides the population in each neighborhood into workers who make over \\\\$3,333 per month and those who do not. The huge increase of these high-earning workers from 2004 to 2017 indicates that gentrification is likely present in these neighborhoods."
   ]
  },
  {
   "cell_type": "code",
   "execution_count": null,
   "metadata": {},
   "outputs": [],
   "source": [
    "rand.shuffle(theme2)\n",
    "\n",
    "#Comparing percent of income spent on housing in 2000 vs 2014-2018\n",
    "\n",
    "ax = pct_on_housing[pov_df.Neighborhood.isin(highest_change)].plot.bar(\n",
    "    x='Neighborhood', rot=30, figsize=(20,10), color=theme2, fontsize='x-large')\n",
    "\n",
    "#Titles/legend\n",
    "ax.set_title(\n",
    "    'Comparing Renter/Owner-Occupied Housing Paying 30% or More on Housing in 2014-2018', \n",
    "                                                                                        fontsize=22)\n",
    "ax.set_xlabel('Neighborhood', labelpad=10, fontsize=18)\n",
    "ax.set_ylabel('Percent in Category', labelpad=10, fontsize=18)\n",
    "ax.legend(fontsize=16)"
   ]
  },
  {
   "cell_type": "markdown",
   "metadata": {},
   "source": [
    "This graph represents those spending 30% or more of their annual income on housing and divides them into two categories: Owner-Occupied housing and Renter-Occupied housing. Since this dataset only had data from 2014-2018, we cannot compare the change over the two time periods. However, there are still interesting insights to pull from this. First of all, there is already a relatively high proportion of people paying 30% of their income or more on housing, which speaks to the affordability (or lack there of) of housing in these neighborhoods. Additionally, in almost all cases, there is a larger percentage of Renter-Occupied housing paying at or above 30% of their income on housing than Owner-Occupied housing. In one of the earlier graphs, we mentioned that the decrease in family households suggests that many of the households are owned by investors who buy properties at a low value and charge a high rent. This is evident based on the data displayed in this graph."
   ]
  },
  {
   "cell_type": "code",
   "execution_count": null,
   "metadata": {},
   "outputs": [],
   "source": []
  },
  {
   "cell_type": "code",
   "execution_count": null,
   "metadata": {},
   "outputs": [],
   "source": []
  }
 ],
 "metadata": {
  "kernelspec": {
   "display_name": "Python 3",
   "language": "python",
   "name": "python3"
  },
  "language_info": {
   "codemirror_mode": {
    "name": "ipython",
    "version": 3
   },
   "file_extension": ".py",
   "mimetype": "text/x-python",
   "name": "python",
   "nbconvert_exporter": "python",
   "pygments_lexer": "ipython3",
   "version": "3.8.3"
  }
 },
 "nbformat": 4,
 "nbformat_minor": 4
}
