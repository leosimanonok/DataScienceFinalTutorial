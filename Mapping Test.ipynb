{
 "cells": [
  {
   "cell_type": "code",
   "execution_count": 3,
   "metadata": {},
   "outputs": [],
   "source": [
    "import pandas as pd\n",
    "import numpy as np\n",
    "import folium as fl\n",
    "import matplotlib.pyplot as plt\n",
    "from pandas.io.json import json_normalize\n",
    "import json"
   ]
  },
  {
   "cell_type": "code",
   "execution_count": 1,
   "metadata": {},
   "outputs": [
    {
     "ename": "NameError",
     "evalue": "name 'fl' is not defined",
     "output_type": "error",
     "traceback": [
      "\u001b[1;31m------------------------------------------------------------\u001b[0m",
      "\u001b[1;31mNameError\u001b[0m                  Traceback (most recent call last)",
      "\u001b[1;32m<ipython-input-1-724f6d7fa50f>\u001b[0m in \u001b[0;36m<module>\u001b[1;34m\u001b[0m\n\u001b[1;32m----> 1\u001b[1;33m m = fl.Map(\n\u001b[0m\u001b[0;32m      2\u001b[0m     \u001b[0mlocation\u001b[0m \u001b[1;33m=\u001b[0m \u001b[1;33m[\u001b[0m\u001b[1;36m29.9511\u001b[0m\u001b[1;33m,\u001b[0m \u001b[1;33m-\u001b[0m\u001b[1;36m90.0715\u001b[0m\u001b[1;33m]\u001b[0m\u001b[1;33m,\u001b[0m\u001b[1;33m\u001b[0m\u001b[1;33m\u001b[0m\u001b[0m\n\u001b[0;32m      3\u001b[0m     \u001b[0mzoom_start\u001b[0m \u001b[1;33m=\u001b[0m \u001b[1;36m10\u001b[0m\u001b[1;33m,\u001b[0m\u001b[1;33m\u001b[0m\u001b[1;33m\u001b[0m\u001b[0m\n\u001b[0;32m      4\u001b[0m     tiles=\"Stamen Toner\")\n",
      "\u001b[1;31mNameError\u001b[0m: name 'fl' is not defined"
     ]
    }
   ],
   "source": [
    "m = fl.Map(\n",
    "    location = [29.9511, -90.0715],\n",
    "    zoom_start = 10,\n",
    "    tiles=\"Stamen Toner\")"
   ]
  },
  {
   "cell_type": "code",
   "execution_count": null,
   "metadata": {},
   "outputs": [],
   "source": [
    "m"
   ]
  },
  {
   "cell_type": "code",
   "execution_count": null,
   "metadata": {},
   "outputs": [],
   "source": [
    "fl.Choropleth(\n",
    "    geo_data=\"./Data/tract.json\").add_to(m)"
   ]
  },
  {
   "cell_type": "code",
   "execution_count": null,
   "metadata": {},
   "outputs": [],
   "source": [
    "m"
   ]
  },
  {
   "cell_type": "code",
   "execution_count": null,
   "metadata": {},
   "outputs": [],
   "source": [
    "df = pd.read_csv('./Data/all_data.csv')\n",
    "df = df.loc[df[\"Year\"] == 2018]"
   ]
  },
  {
   "cell_type": "code",
   "execution_count": null,
   "metadata": {},
   "outputs": [],
   "source": [
    "df"
   ]
  },
  {
   "cell_type": "code",
   "execution_count": null,
   "metadata": {},
   "outputs": [],
   "source": [
    "df = df.rename(columns={\"Geo_ID_x\" : \"GEOID\"})\n",
    "df"
   ]
  },
  {
   "cell_type": "code",
   "execution_count": null,
   "metadata": {},
   "outputs": [],
   "source": [
    "fl.Choropleth(\n",
    "    geo_data=\"./Data/tract.json\",\n",
    "    data=df,\n",
    "    columns=[\"GEOID\", \"Total Population\"],\n",
    "    key_on='feature.properties.GEOID'\n",
    "    ).add_to(m)"
   ]
  },
  {
   "cell_type": "code",
   "execution_count": null,
   "metadata": {},
   "outputs": [],
   "source": [
    "m"
   ]
  },
  {
   "cell_type": "code",
   "execution_count": 4,
   "metadata": {},
   "outputs": [],
   "source": [
    "df = pd.read_csv('./Data/tract.csv')"
   ]
  },
  {
   "cell_type": "code",
   "execution_count": 5,
   "metadata": {},
   "outputs": [
    {
     "data": {
      "text/html": [
       "<div>\n",
       "<style scoped>\n",
       "    .dataframe tbody tr th:only-of-type {\n",
       "        vertical-align: middle;\n",
       "    }\n",
       "\n",
       "    .dataframe tbody tr th {\n",
       "        vertical-align: top;\n",
       "    }\n",
       "\n",
       "    .dataframe thead th {\n",
       "        text-align: right;\n",
       "    }\n",
       "</style>\n",
       "<table border=\"1\" class=\"dataframe\">\n",
       "  <thead>\n",
       "    <tr style=\"text-align: right;\">\n",
       "      <th></th>\n",
       "      <th>Unnamed: 0</th>\n",
       "      <th>STATEFP</th>\n",
       "      <th>COUNTYFP</th>\n",
       "      <th>TRACTCE</th>\n",
       "      <th>AFFGEOID</th>\n",
       "      <th>GEOID</th>\n",
       "      <th>NAME</th>\n",
       "      <th>LSAD</th>\n",
       "      <th>ALAND</th>\n",
       "      <th>AWATER</th>\n",
       "      <th>geometry</th>\n",
       "    </tr>\n",
       "  </thead>\n",
       "  <tbody>\n",
       "    <tr>\n",
       "      <th>0</th>\n",
       "      <td>0</td>\n",
       "      <td>22</td>\n",
       "      <td>71</td>\n",
       "      <td>1722</td>\n",
       "      <td>1400000US22071001722</td>\n",
       "      <td>22071001722</td>\n",
       "      <td>17.22</td>\n",
       "      <td>CT</td>\n",
       "      <td>2521142</td>\n",
       "      <td>0</td>\n",
       "      <td>POLYGON ((-90.014005 30.020274, -90.0116649999...</td>\n",
       "    </tr>\n",
       "    <tr>\n",
       "      <th>1</th>\n",
       "      <td>1</td>\n",
       "      <td>22</td>\n",
       "      <td>55</td>\n",
       "      <td>1902</td>\n",
       "      <td>1400000US22055001902</td>\n",
       "      <td>22055001902</td>\n",
       "      <td>19.02</td>\n",
       "      <td>CT</td>\n",
       "      <td>17033509</td>\n",
       "      <td>0</td>\n",
       "      <td>POLYGON ((-92.142078 30.235271, -92.1251279999...</td>\n",
       "    </tr>\n",
       "    <tr>\n",
       "      <th>2</th>\n",
       "      <td>2</td>\n",
       "      <td>22</td>\n",
       "      <td>51</td>\n",
       "      <td>27000</td>\n",
       "      <td>1400000US22051027000</td>\n",
       "      <td>22051027000</td>\n",
       "      <td>270.00</td>\n",
       "      <td>CT</td>\n",
       "      <td>2561727</td>\n",
       "      <td>0</td>\n",
       "      <td>POLYGON ((-90.133399 29.894973, -90.1331859999...</td>\n",
       "    </tr>\n",
       "    <tr>\n",
       "      <th>3</th>\n",
       "      <td>3</td>\n",
       "      <td>22</td>\n",
       "      <td>83</td>\n",
       "      <td>970600</td>\n",
       "      <td>1400000US22083970600</td>\n",
       "      <td>22083970600</td>\n",
       "      <td>9706.00</td>\n",
       "      <td>CT</td>\n",
       "      <td>476835017</td>\n",
       "      <td>3913456</td>\n",
       "      <td>POLYGON ((-92.03446199999999 32.278739, -92.03...</td>\n",
       "    </tr>\n",
       "    <tr>\n",
       "      <th>4</th>\n",
       "      <td>4</td>\n",
       "      <td>22</td>\n",
       "      <td>71</td>\n",
       "      <td>701</td>\n",
       "      <td>1400000US22071000701</td>\n",
       "      <td>22071000701</td>\n",
       "      <td>7.01</td>\n",
       "      <td>CT</td>\n",
       "      <td>1021801</td>\n",
       "      <td>130295</td>\n",
       "      <td>POLYGON ((-90.027396 29.963836, -90.0218709999...</td>\n",
       "    </tr>\n",
       "  </tbody>\n",
       "</table>\n",
       "</div>"
      ],
      "text/plain": [
       "   Unnamed: 0  STATEFP  COUNTYFP  TRACTCE              AFFGEOID        GEOID  \\\n",
       "0           0       22        71     1722  1400000US22071001722  22071001722   \n",
       "1           1       22        55     1902  1400000US22055001902  22055001902   \n",
       "2           2       22        51    27000  1400000US22051027000  22051027000   \n",
       "3           3       22        83   970600  1400000US22083970600  22083970600   \n",
       "4           4       22        71      701  1400000US22071000701  22071000701   \n",
       "\n",
       "      NAME LSAD      ALAND   AWATER  \\\n",
       "0    17.22   CT    2521142        0   \n",
       "1    19.02   CT   17033509        0   \n",
       "2   270.00   CT    2561727        0   \n",
       "3  9706.00   CT  476835017  3913456   \n",
       "4     7.01   CT    1021801   130295   \n",
       "\n",
       "                                            geometry  \n",
       "0  POLYGON ((-90.014005 30.020274, -90.0116649999...  \n",
       "1  POLYGON ((-92.142078 30.235271, -92.1251279999...  \n",
       "2  POLYGON ((-90.133399 29.894973, -90.1331859999...  \n",
       "3  POLYGON ((-92.03446199999999 32.278739, -92.03...  \n",
       "4  POLYGON ((-90.027396 29.963836, -90.0218709999...  "
      ]
     },
     "execution_count": 5,
     "metadata": {},
     "output_type": "execute_result"
    }
   ],
   "source": [
    "df.head()"
   ]
  },
  {
   "cell_type": "code",
   "execution_count": 18,
   "metadata": {},
   "outputs": [
    {
     "data": {
      "text/html": [
       "<div>\n",
       "<style scoped>\n",
       "    .dataframe tbody tr th:only-of-type {\n",
       "        vertical-align: middle;\n",
       "    }\n",
       "\n",
       "    .dataframe tbody tr th {\n",
       "        vertical-align: top;\n",
       "    }\n",
       "\n",
       "    .dataframe thead th {\n",
       "        text-align: right;\n",
       "    }\n",
       "</style>\n",
       "<table border=\"1\" class=\"dataframe\">\n",
       "  <thead>\n",
       "    <tr style=\"text-align: right;\">\n",
       "      <th></th>\n",
       "      <th>type</th>\n",
       "      <th>features</th>\n",
       "      <th>fileName</th>\n",
       "    </tr>\n",
       "  </thead>\n",
       "  <tbody>\n",
       "    <tr>\n",
       "      <th>0</th>\n",
       "      <td>FeatureCollection</td>\n",
       "      <td>{'type': 'Feature', 'geometry': {'bbox': [-90....</td>\n",
       "      <td>cb_2019_22_tract_500k</td>\n",
       "    </tr>\n",
       "    <tr>\n",
       "      <th>1</th>\n",
       "      <td>FeatureCollection</td>\n",
       "      <td>{'type': 'Feature', 'geometry': {'bbox': [-92....</td>\n",
       "      <td>cb_2019_22_tract_500k</td>\n",
       "    </tr>\n",
       "    <tr>\n",
       "      <th>2</th>\n",
       "      <td>FeatureCollection</td>\n",
       "      <td>{'type': 'Feature', 'geometry': {'bbox': [-90....</td>\n",
       "      <td>cb_2019_22_tract_500k</td>\n",
       "    </tr>\n",
       "    <tr>\n",
       "      <th>3</th>\n",
       "      <td>FeatureCollection</td>\n",
       "      <td>{'type': 'Feature', 'geometry': {'bbox': [-92....</td>\n",
       "      <td>cb_2019_22_tract_500k</td>\n",
       "    </tr>\n",
       "    <tr>\n",
       "      <th>4</th>\n",
       "      <td>FeatureCollection</td>\n",
       "      <td>{'type': 'Feature', 'geometry': {'bbox': [-90....</td>\n",
       "      <td>cb_2019_22_tract_500k</td>\n",
       "    </tr>\n",
       "    <tr>\n",
       "      <th>...</th>\n",
       "      <td>...</td>\n",
       "      <td>...</td>\n",
       "      <td>...</td>\n",
       "    </tr>\n",
       "    <tr>\n",
       "      <th>1135</th>\n",
       "      <td>FeatureCollection</td>\n",
       "      <td>{'type': 'Feature', 'geometry': {'bbox': [-92....</td>\n",
       "      <td>cb_2019_22_tract_500k</td>\n",
       "    </tr>\n",
       "    <tr>\n",
       "      <th>1136</th>\n",
       "      <td>FeatureCollection</td>\n",
       "      <td>{'type': 'Feature', 'geometry': {'bbox': [-90....</td>\n",
       "      <td>cb_2019_22_tract_500k</td>\n",
       "    </tr>\n",
       "    <tr>\n",
       "      <th>1137</th>\n",
       "      <td>FeatureCollection</td>\n",
       "      <td>{'type': 'Feature', 'geometry': {'bbox': [-93....</td>\n",
       "      <td>cb_2019_22_tract_500k</td>\n",
       "    </tr>\n",
       "    <tr>\n",
       "      <th>1138</th>\n",
       "      <td>FeatureCollection</td>\n",
       "      <td>{'type': 'Feature', 'geometry': {'bbox': [-91....</td>\n",
       "      <td>cb_2019_22_tract_500k</td>\n",
       "    </tr>\n",
       "    <tr>\n",
       "      <th>1139</th>\n",
       "      <td>FeatureCollection</td>\n",
       "      <td>{'type': 'Feature', 'geometry': {'bbox': [-91....</td>\n",
       "      <td>cb_2019_22_tract_500k</td>\n",
       "    </tr>\n",
       "  </tbody>\n",
       "</table>\n",
       "<p>1140 rows × 3 columns</p>\n",
       "</div>"
      ],
      "text/plain": [
       "                   type                                           features  \\\n",
       "0     FeatureCollection  {'type': 'Feature', 'geometry': {'bbox': [-90....   \n",
       "1     FeatureCollection  {'type': 'Feature', 'geometry': {'bbox': [-92....   \n",
       "2     FeatureCollection  {'type': 'Feature', 'geometry': {'bbox': [-90....   \n",
       "3     FeatureCollection  {'type': 'Feature', 'geometry': {'bbox': [-92....   \n",
       "4     FeatureCollection  {'type': 'Feature', 'geometry': {'bbox': [-90....   \n",
       "...                 ...                                                ...   \n",
       "1135  FeatureCollection  {'type': 'Feature', 'geometry': {'bbox': [-92....   \n",
       "1136  FeatureCollection  {'type': 'Feature', 'geometry': {'bbox': [-90....   \n",
       "1137  FeatureCollection  {'type': 'Feature', 'geometry': {'bbox': [-93....   \n",
       "1138  FeatureCollection  {'type': 'Feature', 'geometry': {'bbox': [-91....   \n",
       "1139  FeatureCollection  {'type': 'Feature', 'geometry': {'bbox': [-91....   \n",
       "\n",
       "                   fileName  \n",
       "0     cb_2019_22_tract_500k  \n",
       "1     cb_2019_22_tract_500k  \n",
       "2     cb_2019_22_tract_500k  \n",
       "3     cb_2019_22_tract_500k  \n",
       "4     cb_2019_22_tract_500k  \n",
       "...                     ...  \n",
       "1135  cb_2019_22_tract_500k  \n",
       "1136  cb_2019_22_tract_500k  \n",
       "1137  cb_2019_22_tract_500k  \n",
       "1138  cb_2019_22_tract_500k  \n",
       "1139  cb_2019_22_tract_500k  \n",
       "\n",
       "[1140 rows x 3 columns]"
      ]
     },
     "execution_count": 18,
     "metadata": {},
     "output_type": "execute_result"
    }
   ],
   "source": [
    "df = pd.DataFrame(data)\n",
    "df"
   ]
  },
  {
   "cell_type": "code",
   "execution_count": 20,
   "metadata": {},
   "outputs": [
    {
     "ename": "AttributeError",
     "evalue": "'dict' object has no attribute 'astype'",
     "output_type": "error",
     "traceback": [
      "\u001b[1;31m------------------------------------------------------------\u001b[0m",
      "\u001b[1;31mAttributeError\u001b[0m             Traceback (most recent call last)",
      "\u001b[1;32m<ipython-input-20-2bbb325d3cb6>\u001b[0m in \u001b[0;36m<module>\u001b[1;34m\u001b[0m\n\u001b[1;32m----> 1\u001b[1;33m \u001b[0mtest\u001b[0m \u001b[1;33m=\u001b[0m \u001b[0mdf\u001b[0m\u001b[1;33m.\u001b[0m\u001b[0mloc\u001b[0m\u001b[1;33m[\u001b[0m\u001b[1;36m0\u001b[0m\u001b[1;33m]\u001b[0m\u001b[1;33m[\u001b[0m\u001b[1;34m\"features\"\u001b[0m\u001b[1;33m]\u001b[0m\u001b[1;33m.\u001b[0m\u001b[0mastype\u001b[0m\u001b[1;33m(\u001b[0m\u001b[0mstr\u001b[0m\u001b[1;33m)\u001b[0m\u001b[1;33m\u001b[0m\u001b[1;33m\u001b[0m\u001b[0m\n\u001b[0m",
      "\u001b[1;31mAttributeError\u001b[0m: 'dict' object has no attribute 'astype'"
     ]
    }
   ],
   "source": [
    "\n",
    "test = df.loc[0][\"features\"].astype(str)"
   ]
  },
  {
   "cell_type": "code",
   "execution_count": 15,
   "metadata": {},
   "outputs": [
    {
     "data": {
      "text/html": [
       "<div>\n",
       "<style scoped>\n",
       "    .dataframe tbody tr th:only-of-type {\n",
       "        vertical-align: middle;\n",
       "    }\n",
       "\n",
       "    .dataframe tbody tr th {\n",
       "        vertical-align: top;\n",
       "    }\n",
       "\n",
       "    .dataframe thead th {\n",
       "        text-align: right;\n",
       "    }\n",
       "</style>\n",
       "<table border=\"1\" class=\"dataframe\">\n",
       "  <thead>\n",
       "    <tr style=\"text-align: right;\">\n",
       "      <th></th>\n",
       "      <th>type</th>\n",
       "      <th>geometry</th>\n",
       "      <th>properties</th>\n",
       "    </tr>\n",
       "  </thead>\n",
       "  <tbody>\n",
       "    <tr>\n",
       "      <th>bbox</th>\n",
       "      <td>Feature</td>\n",
       "      <td>[-90.014005, 30.010848, -89.988866, 30.0239010...</td>\n",
       "      <td>NaN</td>\n",
       "    </tr>\n",
       "    <tr>\n",
       "      <th>type</th>\n",
       "      <td>Feature</td>\n",
       "      <td>Polygon</td>\n",
       "      <td>NaN</td>\n",
       "    </tr>\n",
       "    <tr>\n",
       "      <th>coordinates</th>\n",
       "      <td>Feature</td>\n",
       "      <td>[[[-90.014005, 30.020273999999997], [-90.01166...</td>\n",
       "      <td>NaN</td>\n",
       "    </tr>\n",
       "    <tr>\n",
       "      <th>STATEFP</th>\n",
       "      <td>Feature</td>\n",
       "      <td>NaN</td>\n",
       "      <td>22</td>\n",
       "    </tr>\n",
       "    <tr>\n",
       "      <th>COUNTYFP</th>\n",
       "      <td>Feature</td>\n",
       "      <td>NaN</td>\n",
       "      <td>071</td>\n",
       "    </tr>\n",
       "  </tbody>\n",
       "</table>\n",
       "</div>"
      ],
      "text/plain": [
       "                type                                           geometry  \\\n",
       "bbox         Feature  [-90.014005, 30.010848, -89.988866, 30.0239010...   \n",
       "type         Feature                                            Polygon   \n",
       "coordinates  Feature  [[[-90.014005, 30.020273999999997], [-90.01166...   \n",
       "STATEFP      Feature                                                NaN   \n",
       "COUNTYFP     Feature                                                NaN   \n",
       "\n",
       "            properties  \n",
       "bbox               NaN  \n",
       "type               NaN  \n",
       "coordinates        NaN  \n",
       "STATEFP             22  \n",
       "COUNTYFP           071  "
      ]
     },
     "execution_count": 15,
     "metadata": {},
     "output_type": "execute_result"
    }
   ],
   "source": [
    "df = pd.DataFrame(df.loc[0][\"features\"])\n",
    "df.head()"
   ]
  }
 ],
 "metadata": {
  "kernelspec": {
   "display_name": "Python 3",
   "language": "python",
   "name": "python3"
  },
  "language_info": {
   "codemirror_mode": {
    "name": "ipython",
    "version": 3
   },
   "file_extension": ".py",
   "mimetype": "text/x-python",
   "name": "python",
   "nbconvert_exporter": "python",
   "pygments_lexer": "ipython3",
   "version": "3.8.3"
  }
 },
 "nbformat": 4,
 "nbformat_minor": 4
}
